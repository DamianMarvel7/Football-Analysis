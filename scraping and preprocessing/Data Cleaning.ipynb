{
 "cells": [
  {
   "cell_type": "code",
   "execution_count": 13,
   "id": "4a1c2f11",
   "metadata": {},
   "outputs": [],
   "source": [
    "import pandas as pd"
   ]
  },
  {
   "cell_type": "markdown",
   "id": "8b5bb07f",
   "metadata": {},
   "source": [
    "### Merging all the tables into 1 big tables"
   ]
  },
  {
   "cell_type": "code",
   "execution_count": 14,
   "id": "ab95b40e",
   "metadata": {},
   "outputs": [],
   "source": [
    "# Read all the data\n",
    "defense_stats = pd.read_csv('./data/defense_stats.csv')\n",
    "gca_stats = pd.read_csv('./data/gca_stats.csv')\n",
    "passing_stats = pd.read_csv('./data/passing_stats.csv')\n",
    "possession_stats = pd.read_csv('./data/possession_stats.csv')\n",
    "shooting_stats = pd.read_csv('./data/shooting_stats.csv')"
   ]
  },
  {
   "cell_type": "code",
   "execution_count": 15,
   "id": "80e0c0ab",
   "metadata": {},
   "outputs": [],
   "source": [
    "# Ensure that there is no duplicates\n",
    "defense_stats = defense_stats.drop_duplicates()\n",
    "gca_stats = gca_stats.drop_duplicates()\n",
    "passing_stats = passing_stats.drop_duplicates()\n",
    "possession_stats = possession_stats.drop_duplicates()\n",
    "shooting_stats = shooting_stats.drop_duplicates()"
   ]
  },
  {
   "cell_type": "code",
   "execution_count": 16,
   "id": "9a561702",
   "metadata": {},
   "outputs": [],
   "source": [
    "# Selecting subset of the table\n",
    "general_defense_stats = defense_stats[['Player', 'Nation', 'Pos', 'Age', '90s','Team']]\n",
    "general_gca_stats = gca_stats[['Player', 'Nation', 'Pos', 'Age', '90s','Team']]\n",
    "general_passing_stats = passing_stats[['Player', 'Nation', 'Pos', 'Age', '90s','Team']]\n",
    "general_possession_stats = possession_stats[['Player', 'Nation', 'Pos', 'Age', '90s','Team']]\n",
    "general_shooting_stats = shooting_stats[['Player', 'Nation', 'Pos', 'Age', '90s','Team']]"
   ]
  },
  {
   "cell_type": "markdown",
   "id": "b5c270d0",
   "metadata": {},
   "source": [
    "Upon examination, I noticed that a specific column appears redundantly in multiple tables. Therefore, I'm attempting to remove it from the original dataset before merging it later on."
   ]
  },
  {
   "cell_type": "code",
   "execution_count": 17,
   "id": "aa20eb8a",
   "metadata": {},
   "outputs": [],
   "source": [
    "# Concatenating all the general statistics\n",
    "general_stats = pd.concat([general_defense_stats, general_gca_stats, general_passing_stats, \n",
    "                           general_possession_stats, general_shooting_stats])\n",
    "\n",
    "general_stats.reset_index(drop=True, inplace=True)\n",
    "general_stats = general_stats.drop_duplicates()"
   ]
  },
  {
   "cell_type": "code",
   "execution_count": 18,
   "id": "d04ec4fb",
   "metadata": {},
   "outputs": [
    {
     "data": {
      "text/html": [
       "<div>\n",
       "<style scoped>\n",
       "    .dataframe tbody tr th:only-of-type {\n",
       "        vertical-align: middle;\n",
       "    }\n",
       "\n",
       "    .dataframe tbody tr th {\n",
       "        vertical-align: top;\n",
       "    }\n",
       "\n",
       "    .dataframe thead th {\n",
       "        text-align: right;\n",
       "    }\n",
       "</style>\n",
       "<table border=\"1\" class=\"dataframe\">\n",
       "  <thead>\n",
       "    <tr style=\"text-align: right;\">\n",
       "      <th></th>\n",
       "      <th>Player</th>\n",
       "      <th>Nation</th>\n",
       "      <th>Pos</th>\n",
       "      <th>Age</th>\n",
       "      <th>90s</th>\n",
       "      <th>Team</th>\n",
       "    </tr>\n",
       "  </thead>\n",
       "  <tbody>\n",
       "    <tr>\n",
       "      <th>0</th>\n",
       "      <td>William Saliba</td>\n",
       "      <td>fr FRA</td>\n",
       "      <td>DF</td>\n",
       "      <td>23-001</td>\n",
       "      <td>28.0</td>\n",
       "      <td>Arsenal</td>\n",
       "    </tr>\n",
       "    <tr>\n",
       "      <th>1</th>\n",
       "      <td>Declan Rice</td>\n",
       "      <td>eng ENG</td>\n",
       "      <td>MF</td>\n",
       "      <td>25-071</td>\n",
       "      <td>26.6</td>\n",
       "      <td>Arsenal</td>\n",
       "    </tr>\n",
       "    <tr>\n",
       "      <th>2</th>\n",
       "      <td>Bukayo Saka</td>\n",
       "      <td>eng ENG</td>\n",
       "      <td>FW</td>\n",
       "      <td>22-202</td>\n",
       "      <td>25.1</td>\n",
       "      <td>Arsenal</td>\n",
       "    </tr>\n",
       "    <tr>\n",
       "      <th>3</th>\n",
       "      <td>Martin Ødegaard</td>\n",
       "      <td>no NOR</td>\n",
       "      <td>MF</td>\n",
       "      <td>25-099</td>\n",
       "      <td>24.5</td>\n",
       "      <td>Arsenal</td>\n",
       "    </tr>\n",
       "    <tr>\n",
       "      <th>4</th>\n",
       "      <td>Ben White</td>\n",
       "      <td>eng ENG</td>\n",
       "      <td>DF</td>\n",
       "      <td>26-169</td>\n",
       "      <td>23.7</td>\n",
       "      <td>Arsenal</td>\n",
       "    </tr>\n",
       "  </tbody>\n",
       "</table>\n",
       "</div>"
      ],
      "text/plain": [
       "            Player   Nation Pos     Age   90s     Team\n",
       "0   William Saliba   fr FRA  DF  23-001  28.0  Arsenal\n",
       "1      Declan Rice  eng ENG  MF  25-071  26.6  Arsenal\n",
       "2      Bukayo Saka  eng ENG  FW  22-202  25.1  Arsenal\n",
       "3  Martin Ødegaard   no NOR  MF  25-099  24.5  Arsenal\n",
       "4        Ben White  eng ENG  DF  26-169  23.7  Arsenal"
      ]
     },
     "execution_count": 18,
     "metadata": {},
     "output_type": "execute_result"
    }
   ],
   "source": [
    "general_stats.head()"
   ]
  },
  {
   "cell_type": "code",
   "execution_count": 19,
   "id": "0fc62c43",
   "metadata": {},
   "outputs": [],
   "source": [
    "# Stripping the Age column so it will only show the age\n",
    "general_stats['Age'] = general_stats['Age'].str.split('-').str[0]"
   ]
  },
  {
   "cell_type": "code",
   "execution_count": 20,
   "id": "4f966c90",
   "metadata": {},
   "outputs": [],
   "source": [
    "# Dropping the general stats\n",
    "defense_stats = defense_stats.drop(['Nation', 'Pos', 'Age', '90s'], axis=1)\n",
    "gca_stats = gca_stats.drop(['Nation', 'Pos', 'Age', '90s'], axis=1)\n",
    "passing_stats = passing_stats.drop(['Nation', 'Pos', 'Age', '90s'], axis=1)\n",
    "possession_stats = possession_stats.drop(['Nation', 'Pos', 'Age', '90s'], axis=1)\n",
    "shooting_stats = shooting_stats.drop(['Nation', 'Pos', 'Age', '90s'], axis=1)"
   ]
  },
  {
   "cell_type": "code",
   "execution_count": 21,
   "id": "703cc615",
   "metadata": {},
   "outputs": [],
   "source": [
    "# Merging all the table into one\n",
    "all_stats = pd.merge(defense_stats, gca_stats, on=['Player', 'Team'], how='outer')\n",
    "all_stats = pd.merge(all_stats, passing_stats, on=['Player', 'Team'], how='outer')\n",
    "all_stats = pd.merge(all_stats, possession_stats, on=['Player', 'Team'], how='outer')\n",
    "all_stats = pd.merge(all_stats, shooting_stats, on=['Player', 'Team'], how='outer')\n",
    "all_stats = pd.merge(all_stats, general_stats, on=['Player', 'Team'], how='outer')"
   ]
  },
  {
   "cell_type": "markdown",
   "id": "d5a31514",
   "metadata": {},
   "source": [
    "Upon merging the data, it became evident that there was a duplicate column present. Consequently, the duplicate column received suffixes such as '_x' and '_y'. Our objective now is to eliminate this duplicate column and rename it without any suffixes."
   ]
  },
  {
   "cell_type": "code",
   "execution_count": 22,
   "id": "51cbc501",
   "metadata": {},
   "outputs": [
    {
     "name": "stdout",
     "output_type": "stream",
     "text": [
      "['Player', 'Tkl', 'TklW', 'Def 3rd_x', 'Mid 3rd_x', 'Att 3rd_x', 'Tkl.1', 'Att_x', 'Tkl%', 'Lost', 'Blocks', 'Sh_x', 'Pass', 'Int', 'Tkl+Int', 'Clr', 'Err', 'Team', 'SCA', 'SCA90', 'PassLive', 'PassDead', 'TO', 'Sh_y', 'Fld', 'Def', 'GCA', 'GCA90', 'PassLive.1', 'PassDead.1', 'TO.1', 'Sh.1', 'Fld.1', 'Def.1', 'Cmp', 'Att_y', 'Cmp%', 'TotDist_x', 'PrgDist_x', 'Cmp.1', 'Att.1', 'Cmp%.1', 'Cmp.2', 'Att.2', 'Cmp%.2', 'Cmp.3', 'Att.3', 'Cmp%.3', 'Ast', 'xAG', 'xA', 'A-xAG', 'KP', '1/3_x', 'PPA', 'CrsPA', 'PrgP', 'Touches', 'Def Pen', 'Def 3rd_y', 'Mid 3rd_y', 'Att 3rd_y', 'Att Pen', 'Live', 'Att', 'Succ', 'Succ%', 'Tkld', 'Tkld%', 'Carries', 'TotDist_y', 'PrgDist_y', 'PrgC', '1/3_y', 'CPA', 'Mis', 'Dis', 'Rec', 'PrgR', 'Gls', 'Sh', 'SoT', 'SoT%', 'Sh/90', 'SoT/90', 'G/Sh', 'G/SoT', 'Dist', 'FK', 'PK', 'PKatt', 'xG', 'npxG', 'npxG/Sh', 'G-xG', 'np:G-xG', 'Nation', 'Pos', 'Age', '90s']\n"
     ]
    }
   ],
   "source": [
    "column_list = list(all_stats.columns)\n",
    "print(column_list)"
   ]
  },
  {
   "cell_type": "code",
   "execution_count": 23,
   "id": "26fc2e3e",
   "metadata": {},
   "outputs": [],
   "source": [
    "# Iterate through the columns to remove column thats ends with x or y\n",
    "for column in all_stats.columns:\n",
    "    if column.endswith('_x'):\n",
    "        column_name_without_suffix = column[:-2]\n",
    "        if column_name_without_suffix not in all_stats.columns:\n",
    "            all_stats[column_name_without_suffix] = all_stats[column]\n",
    "        all_stats.drop(column, axis=1, inplace=True)\n",
    "    elif column.endswith('_y'):\n",
    "        all_stats.drop(column, axis=1, inplace=True)\n"
   ]
  },
  {
   "cell_type": "code",
   "execution_count": 24,
   "id": "e2401e62",
   "metadata": {},
   "outputs": [
    {
     "name": "stdout",
     "output_type": "stream",
     "text": [
      "['Player', 'Tkl', 'TklW', 'Tkl.1', 'Tkl%', 'Lost', 'Blocks', 'Pass', 'Int', 'Tkl+Int', 'Clr', 'Err', 'Team', 'SCA', 'SCA90', 'PassLive', 'PassDead', 'TO', 'Fld', 'Def', 'GCA', 'GCA90', 'PassLive.1', 'PassDead.1', 'TO.1', 'Sh.1', 'Fld.1', 'Def.1', 'Cmp', 'Cmp%', 'Cmp.1', 'Att.1', 'Cmp%.1', 'Cmp.2', 'Att.2', 'Cmp%.2', 'Cmp.3', 'Att.3', 'Cmp%.3', 'Ast', 'xAG', 'xA', 'A-xAG', 'KP', 'PPA', 'CrsPA', 'PrgP', 'Touches', 'Def Pen', 'Att Pen', 'Live', 'Att', 'Succ', 'Succ%', 'Tkld', 'Tkld%', 'Carries', 'PrgC', 'CPA', 'Mis', 'Dis', 'Rec', 'PrgR', 'Gls', 'Sh', 'SoT', 'SoT%', 'Sh/90', 'SoT/90', 'G/Sh', 'G/SoT', 'Dist', 'FK', 'PK', 'PKatt', 'xG', 'npxG', 'npxG/Sh', 'G-xG', 'np:G-xG', 'Nation', 'Pos', 'Age', '90s', 'Def 3rd', 'Mid 3rd', 'Att 3rd', 'TotDist', 'PrgDist', '1/3']\n"
     ]
    }
   ],
   "source": [
    "column_list = list(all_stats.columns)\n",
    "print(column_list)"
   ]
  },
  {
   "cell_type": "markdown",
   "id": "49dadb60",
   "metadata": {},
   "source": [
    "### Mapping the Country Code"
   ]
  },
  {
   "cell_type": "markdown",
   "id": "97e7c492",
   "metadata": {},
   "source": [
    "Initially, I intended to merge my original data with the country code table that I scraped. However, I discovered that the country codes in my original data significantly differed from the standard Alpha-3 code format. Consequently, I decided to manually map the country codes with the help of ChatGPT."
   ]
  },
  {
   "cell_type": "code",
   "execution_count": 25,
   "id": "0a702b7f",
   "metadata": {},
   "outputs": [],
   "source": [
    "# Define the list of country codes and country names\n",
    "country_codes = ['FRA', 'ENG', 'NOR', 'BRA', 'ESP', 'GER', 'UKR', 'BEL', 'POL',\n",
    "                'ITA', 'JPN', 'GHA', 'POR', 'NED', 'EGY', 'COL', 'ARG', 'HUN',\n",
    "                'URU', 'SCO', 'CMR', 'GRE', 'IRL', 'NIR', 'WAL', 'SUI', 'CRO',\n",
    "                'JAM', 'SWE', 'BFA', 'KOR', 'SEN', 'MLI', 'DEN', 'ISR', 'ROU',\n",
    "                'MAR', 'TUN', 'CIV', 'CZE', 'MEX', 'ALG', 'ECU', 'PAR', 'GAB',\n",
    "                'AUT', 'SVK', 'SRB', 'ALB', 'USA', 'NGA', 'TUR', 'COD', 'IRN',\n",
    "                'GRN', 'GNB', 'ZIM', 'NZL', 'CRC', 'RSA', 'ISL', 'TOG', 'KVX',\n",
    "                'BIH', 'CHI']\n",
    "\n",
    "country_names = ['France', 'United Kingdom', 'Norway', 'Brazil', 'Spain', 'Germany', 'Ukraine', 'Belgium', 'Poland',\n",
    "                 'Italy', 'Japan', 'Ghana', 'Portugal', 'Netherlands', 'Egypt', 'Colombia', 'Argentina', 'Hungary',\n",
    "                 'Uruguay', 'United Kingdom', 'Cameroon', 'Greece', 'Ireland', 'United Kingdom', 'United Kingdom', 'Switzerland', 'Croatia',\n",
    "                 'Jamaica', 'Sweden', 'Burkina Faso', 'South Korea', 'Senegal', 'Mali', 'Denmark', 'Israel', 'Romania',\n",
    "                 'Morocco', 'Tunisia', 'Ivory Coast', 'Czech Republic', 'Mexico', 'Algeria', 'Ecuador', 'Paraguay', 'Gabon',\n",
    "                 'Austria', 'Slovakia', 'Serbia', 'Albania', 'USA', 'Nigeria', 'Turkey', 'Democratic Republic of the Congo', 'Iran',\n",
    "                 'Grenada', 'Guinea-Bissau', 'Zimbabwe', 'New Zealand', 'Costa Rica', 'South Africa', 'Iceland', 'Togo', 'Kosovo',\n",
    "                 'Bosnia and Herzegovina', 'Chile']\n",
    "\n",
    "# Create the dictionary mapping country codes to country names\n",
    "country_code_to_name = dict(zip(country_codes, country_names))\n"
   ]
  },
  {
   "cell_type": "code",
   "execution_count": 29,
   "id": "b6bdfade",
   "metadata": {},
   "outputs": [
    {
     "data": {
      "text/plain": [
       "0       FRA\n",
       "1       FRA\n",
       "2       ENG\n",
       "3       ENG\n",
       "4       ENG\n",
       "       ... \n",
       "1109    ENG\n",
       "1110    ENG\n",
       "1111    ENG\n",
       "1112    SCO\n",
       "1113    SCO\n",
       "Name: Nation, Length: 1114, dtype: object"
      ]
     },
     "execution_count": 29,
     "metadata": {},
     "output_type": "execute_result"
    }
   ],
   "source": [
    "all_stats['Nation']"
   ]
  },
  {
   "cell_type": "code",
   "execution_count": 26,
   "id": "14792aeb",
   "metadata": {},
   "outputs": [],
   "source": [
    "# Split the code and retrive the first index\n",
    "all_stats['Nation'] = all_stats['Nation'].str.split(' ').str[1]"
   ]
  },
  {
   "cell_type": "code",
   "execution_count": 30,
   "id": "9717e0df",
   "metadata": {},
   "outputs": [],
   "source": [
    "# Map it\n",
    "all_stats['Country'] = all_stats['Nation'].map(country_code_to_name)\n",
    "\n",
    "all_stats = all_stats.drop_duplicates(subset=['Player'])"
   ]
  },
  {
   "cell_type": "code",
   "execution_count": 36,
   "id": "bade246c",
   "metadata": {},
   "outputs": [
    {
     "data": {
      "text/plain": [
       "Player      0\n",
       "Tkl         0\n",
       "TklW        0\n",
       "Tkl.1       0\n",
       "Tkl%       79\n",
       "           ..\n",
       "Att 3rd     0\n",
       "TotDist     0\n",
       "PrgDist     0\n",
       "1/3         0\n",
       "Country     0\n",
       "Length: 91, dtype: int64"
      ]
     },
     "execution_count": 36,
     "metadata": {},
     "output_type": "execute_result"
    }
   ],
   "source": [
    "# Check missing values\n",
    "missing_values = all_stats.isnull().sum()\n",
    "missing_values"
   ]
  },
  {
   "cell_type": "markdown",
   "id": "cbdda6ee",
   "metadata": {},
   "source": [
    "\n",
    "Many missing values are present in the columns, primarily because some players haven't played any matches yet, resulting in NaN statistics. My solution is to fill these NaN values with zeros."
   ]
  },
  {
   "cell_type": "code",
   "execution_count": 38,
   "id": "afe27b9f",
   "metadata": {},
   "outputs": [],
   "source": [
    "all_stats.fillna(0,inplace=True)"
   ]
  },
  {
   "cell_type": "code",
   "execution_count": 40,
   "id": "f445c61c",
   "metadata": {},
   "outputs": [
    {
     "data": {
      "text/plain": [
       "Player     0\n",
       "Tkl        0\n",
       "TklW       0\n",
       "Tkl.1      0\n",
       "Tkl%       0\n",
       "          ..\n",
       "Att 3rd    0\n",
       "TotDist    0\n",
       "PrgDist    0\n",
       "1/3        0\n",
       "Country    0\n",
       "Length: 91, dtype: int64"
      ]
     },
     "execution_count": 40,
     "metadata": {},
     "output_type": "execute_result"
    }
   ],
   "source": [
    "# Check missing values\n",
    "missing_values = all_stats.isnull().sum()\n",
    "missing_values"
   ]
  },
  {
   "cell_type": "code",
   "execution_count": 41,
   "id": "b2a4785c",
   "metadata": {},
   "outputs": [],
   "source": [
    "all_stats.to_csv('./data/all_stats.csv',index_label=False)"
   ]
  },
  {
   "cell_type": "markdown",
   "id": "4c9f4469",
   "metadata": {},
   "source": [
    "### Cleaned the player valuation table"
   ]
  },
  {
   "cell_type": "markdown",
   "id": "eee133f5",
   "metadata": {},
   "source": [
    "Because I scrape the data from 2 different source, I need to make sure all the player name is consistent so it can all be merged with the original data."
   ]
  },
  {
   "cell_type": "code",
   "execution_count": 32,
   "id": "45f4cf1f",
   "metadata": {},
   "outputs": [],
   "source": [
    "player_val = pd.read_csv('./data/player_valuation.csv')"
   ]
  },
  {
   "cell_type": "code",
   "execution_count": 33,
   "id": "1c3c5858",
   "metadata": {},
   "outputs": [],
   "source": [
    "player_val_split = player_val['Player'].str.split(' ', expand=True)\n",
    "\n",
    "player_val['Player'] = player_val_split[0]+' ' +player_val_split[1]"
   ]
  },
  {
   "cell_type": "code",
   "execution_count": 34,
   "id": "1b1d104a",
   "metadata": {},
   "outputs": [
    {
     "data": {
      "text/html": [
       "<div>\n",
       "<style scoped>\n",
       "    .dataframe tbody tr th:only-of-type {\n",
       "        vertical-align: middle;\n",
       "    }\n",
       "\n",
       "    .dataframe tbody tr th {\n",
       "        vertical-align: top;\n",
       "    }\n",
       "\n",
       "    .dataframe thead th {\n",
       "        text-align: right;\n",
       "    }\n",
       "</style>\n",
       "<table border=\"1\" class=\"dataframe\">\n",
       "  <thead>\n",
       "    <tr style=\"text-align: right;\">\n",
       "      <th></th>\n",
       "      <th>#</th>\n",
       "      <th>Player</th>\n",
       "      <th>Nat.</th>\n",
       "      <th>Age</th>\n",
       "      <th>Club</th>\n",
       "      <th>Highest value in career</th>\n",
       "      <th>Last update</th>\n",
       "      <th>Market value</th>\n",
       "    </tr>\n",
       "  </thead>\n",
       "  <tbody>\n",
       "    <tr>\n",
       "      <th>4</th>\n",
       "      <td>5.0</td>\n",
       "      <td>Rodri Defensive</td>\n",
       "      <td>NaN</td>\n",
       "      <td>27.0</td>\n",
       "      <td>NaN</td>\n",
       "      <td>€110.00m</td>\n",
       "      <td>Dec 19, 2023</td>\n",
       "      <td>€110.00m</td>\n",
       "    </tr>\n",
       "    <tr>\n",
       "      <th>15</th>\n",
       "      <td>16.0</td>\n",
       "      <td>Josko Gvardiol</td>\n",
       "      <td>NaN</td>\n",
       "      <td>22.0</td>\n",
       "      <td>NaN</td>\n",
       "      <td>€80.00m</td>\n",
       "      <td>Mar 14, 2024</td>\n",
       "      <td>€75.00m</td>\n",
       "    </tr>\n",
       "    <tr>\n",
       "      <th>22</th>\n",
       "      <td>23.0</td>\n",
       "      <td>Alexis Mac</td>\n",
       "      <td>NaN</td>\n",
       "      <td>25.0</td>\n",
       "      <td>NaN</td>\n",
       "      <td>€70.00m</td>\n",
       "      <td>Mar 14, 2024</td>\n",
       "      <td>€70.00m</td>\n",
       "    </tr>\n",
       "    <tr>\n",
       "      <th>26</th>\n",
       "      <td>27.0</td>\n",
       "      <td>Gabriel Magalhães</td>\n",
       "      <td>NaN</td>\n",
       "      <td>26.0</td>\n",
       "      <td>NaN</td>\n",
       "      <td>€65.00m</td>\n",
       "      <td>Mar 14, 2024</td>\n",
       "      <td>€65.00m</td>\n",
       "    </tr>\n",
       "    <tr>\n",
       "      <th>30</th>\n",
       "      <td>31.0</td>\n",
       "      <td>Jérémy Doku</td>\n",
       "      <td>NaN</td>\n",
       "      <td>21.0</td>\n",
       "      <td>NaN</td>\n",
       "      <td>€65.00m</td>\n",
       "      <td>Dec 19, 2023</td>\n",
       "      <td>€65.00m</td>\n",
       "    </tr>\n",
       "    <tr>\n",
       "      <th>36</th>\n",
       "      <td>37.0</td>\n",
       "      <td>Kevin De</td>\n",
       "      <td>NaN</td>\n",
       "      <td>32.0</td>\n",
       "      <td>NaN</td>\n",
       "      <td>€150.00m</td>\n",
       "      <td>Dec 19, 2023</td>\n",
       "      <td>€60.00m</td>\n",
       "    </tr>\n",
       "    <tr>\n",
       "      <th>45</th>\n",
       "      <td>46.0</td>\n",
       "      <td>Mohammed Kudus</td>\n",
       "      <td>NaN</td>\n",
       "      <td>23.0</td>\n",
       "      <td>NaN</td>\n",
       "      <td>€50.00m</td>\n",
       "      <td>Mar 14, 2024</td>\n",
       "      <td>€50.00m</td>\n",
       "    </tr>\n",
       "    <tr>\n",
       "      <th>47</th>\n",
       "      <td>48.0</td>\n",
       "      <td>Heung-min Son</td>\n",
       "      <td>NaN</td>\n",
       "      <td>31.0</td>\n",
       "      <td>NaN</td>\n",
       "      <td>€90.00m</td>\n",
       "      <td>Dec 19, 2023</td>\n",
       "      <td>€50.00m</td>\n",
       "    </tr>\n",
       "    <tr>\n",
       "      <th>54</th>\n",
       "      <td>55.0</td>\n",
       "      <td>Micky van</td>\n",
       "      <td>NaN</td>\n",
       "      <td>22.0</td>\n",
       "      <td>NaN</td>\n",
       "      <td>€50.00m</td>\n",
       "      <td>Mar 14, 2024</td>\n",
       "      <td>€50.00m</td>\n",
       "    </tr>\n",
       "    <tr>\n",
       "      <th>69</th>\n",
       "      <td>70.0</td>\n",
       "      <td>Joelinton Central</td>\n",
       "      <td>NaN</td>\n",
       "      <td>27.0</td>\n",
       "      <td>NaN</td>\n",
       "      <td>€42.00m</td>\n",
       "      <td>Dec 19, 2023</td>\n",
       "      <td>€42.00m</td>\n",
       "    </tr>\n",
       "    <tr>\n",
       "      <th>76</th>\n",
       "      <td>77.0</td>\n",
       "      <td>Ederson Goalkeeper</td>\n",
       "      <td>NaN</td>\n",
       "      <td>30.0</td>\n",
       "      <td>NaN</td>\n",
       "      <td>€70.00m</td>\n",
       "      <td>Dec 19, 2023</td>\n",
       "      <td>€40.00m</td>\n",
       "    </tr>\n",
       "    <tr>\n",
       "      <th>78</th>\n",
       "      <td>79.0</td>\n",
       "      <td>Jurrien Timber</td>\n",
       "      <td>NaN</td>\n",
       "      <td>22.0</td>\n",
       "      <td>NaN</td>\n",
       "      <td>€45.00m</td>\n",
       "      <td>Dec 19, 2023</td>\n",
       "      <td>€40.00m</td>\n",
       "    </tr>\n",
       "    <tr>\n",
       "      <th>79</th>\n",
       "      <td>80.0</td>\n",
       "      <td>Richarlison Centre-Forward</td>\n",
       "      <td>NaN</td>\n",
       "      <td>26.0</td>\n",
       "      <td>NaN</td>\n",
       "      <td>€65.00m</td>\n",
       "      <td>Mar 14, 2024</td>\n",
       "      <td>€40.00m</td>\n",
       "    </tr>\n",
       "    <tr>\n",
       "      <th>85</th>\n",
       "      <td>86.0</td>\n",
       "      <td>Pape Matar</td>\n",
       "      <td>NaN</td>\n",
       "      <td>21.0</td>\n",
       "      <td>NaN</td>\n",
       "      <td>€40.00m</td>\n",
       "      <td>Mar 14, 2024</td>\n",
       "      <td>€40.00m</td>\n",
       "    </tr>\n",
       "    <tr>\n",
       "      <th>96</th>\n",
       "      <td>97.0</td>\n",
       "      <td>Mykhaylo Mudryk</td>\n",
       "      <td>NaN</td>\n",
       "      <td>23.0</td>\n",
       "      <td>NaN</td>\n",
       "      <td>€60.00m</td>\n",
       "      <td>Mar 14, 2024</td>\n",
       "      <td>€35.00m</td>\n",
       "    </tr>\n",
       "  </tbody>\n",
       "</table>\n",
       "</div>"
      ],
      "text/plain": [
       "       #                      Player  Nat.   Age  Club  \\\n",
       "4    5.0             Rodri Defensive   NaN  27.0   NaN   \n",
       "15  16.0              Josko Gvardiol   NaN  22.0   NaN   \n",
       "22  23.0                  Alexis Mac   NaN  25.0   NaN   \n",
       "26  27.0           Gabriel Magalhães   NaN  26.0   NaN   \n",
       "30  31.0                 Jérémy Doku   NaN  21.0   NaN   \n",
       "36  37.0                    Kevin De   NaN  32.0   NaN   \n",
       "45  46.0              Mohammed Kudus   NaN  23.0   NaN   \n",
       "47  48.0               Heung-min Son   NaN  31.0   NaN   \n",
       "54  55.0                   Micky van   NaN  22.0   NaN   \n",
       "69  70.0           Joelinton Central   NaN  27.0   NaN   \n",
       "76  77.0          Ederson Goalkeeper   NaN  30.0   NaN   \n",
       "78  79.0              Jurrien Timber   NaN  22.0   NaN   \n",
       "79  80.0  Richarlison Centre-Forward   NaN  26.0   NaN   \n",
       "85  86.0                  Pape Matar   NaN  21.0   NaN   \n",
       "96  97.0             Mykhaylo Mudryk   NaN  23.0   NaN   \n",
       "\n",
       "   Highest value in career   Last update Market value  \n",
       "4                 €110.00m  Dec 19, 2023     €110.00m  \n",
       "15                 €80.00m  Mar 14, 2024      €75.00m  \n",
       "22                 €70.00m  Mar 14, 2024      €70.00m  \n",
       "26                 €65.00m  Mar 14, 2024      €65.00m  \n",
       "30                 €65.00m  Dec 19, 2023      €65.00m  \n",
       "36                €150.00m  Dec 19, 2023      €60.00m  \n",
       "45                 €50.00m  Mar 14, 2024      €50.00m  \n",
       "47                 €90.00m  Dec 19, 2023      €50.00m  \n",
       "54                 €50.00m  Mar 14, 2024      €50.00m  \n",
       "69                 €42.00m  Dec 19, 2023      €42.00m  \n",
       "76                 €70.00m  Dec 19, 2023      €40.00m  \n",
       "78                 €45.00m  Dec 19, 2023      €40.00m  \n",
       "79                 €65.00m  Mar 14, 2024      €40.00m  \n",
       "85                 €40.00m  Mar 14, 2024      €40.00m  \n",
       "96                 €60.00m  Mar 14, 2024      €35.00m  "
      ]
     },
     "execution_count": 34,
     "metadata": {},
     "output_type": "execute_result"
    }
   ],
   "source": [
    "check = player_val['Player'].isin(all_stats['Player'])\n",
    "player_val[~check]"
   ]
  },
  {
   "cell_type": "markdown",
   "id": "beee6087",
   "metadata": {},
   "source": [
    "As evident, there are numerous instances where the player names do not match the subset of the original data. This discrepancy arises primarily from two reasons: firstly, players with single-word names are not split correctly, and secondly, there are issues with the naming format. Instead of automating the process, I opted to manually rectify these discrepancies directly in the CSV file."
   ]
  },
  {
   "cell_type": "code",
   "execution_count": 41,
   "id": "10bff76e",
   "metadata": {},
   "outputs": [
    {
     "data": {
      "text/html": [
       "<div>\n",
       "<style scoped>\n",
       "    .dataframe tbody tr th:only-of-type {\n",
       "        vertical-align: middle;\n",
       "    }\n",
       "\n",
       "    .dataframe tbody tr th {\n",
       "        vertical-align: top;\n",
       "    }\n",
       "\n",
       "    .dataframe thead th {\n",
       "        text-align: right;\n",
       "    }\n",
       "</style>\n",
       "<table border=\"1\" class=\"dataframe\">\n",
       "  <thead>\n",
       "    <tr style=\"text-align: right;\">\n",
       "      <th></th>\n",
       "      <th>Unnamed: 0</th>\n",
       "      <th>#</th>\n",
       "      <th>Player</th>\n",
       "      <th>Nat.</th>\n",
       "      <th>Age</th>\n",
       "      <th>Club</th>\n",
       "      <th>Highest value in career</th>\n",
       "      <th>Last update</th>\n",
       "      <th>Market value</th>\n",
       "    </tr>\n",
       "  </thead>\n",
       "  <tbody>\n",
       "  </tbody>\n",
       "</table>\n",
       "</div>"
      ],
      "text/plain": [
       "Empty DataFrame\n",
       "Columns: [Unnamed: 0, #, Player, Nat., Age, Club, Highest value in career, Last update, Market value]\n",
       "Index: []"
      ]
     },
     "execution_count": 41,
     "metadata": {},
     "output_type": "execute_result"
    }
   ],
   "source": [
    "player_val = pd.read_csv('./data/player_val_cleaned.csv')\n",
    "check = player_val['Player'].isin(df['Player'])\n",
    "player_val[~check]"
   ]
  },
  {
   "cell_type": "markdown",
   "id": "1135337d",
   "metadata": {},
   "source": [
    "Once I completed cleaning, all player names in the valuation table matched those in the subset of the original data."
   ]
  }
 ],
 "metadata": {
  "kernelspec": {
   "display_name": "Python 3 (ipykernel)",
   "language": "python",
   "name": "python3"
  },
  "language_info": {
   "codemirror_mode": {
    "name": "ipython",
    "version": 3
   },
   "file_extension": ".py",
   "mimetype": "text/x-python",
   "name": "python",
   "nbconvert_exporter": "python",
   "pygments_lexer": "ipython3",
   "version": "3.11.5"
  }
 },
 "nbformat": 4,
 "nbformat_minor": 5
}
