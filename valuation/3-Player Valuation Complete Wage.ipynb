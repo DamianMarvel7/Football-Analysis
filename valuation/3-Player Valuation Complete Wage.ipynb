{
 "cells": [
  {
   "cell_type": "code",
   "execution_count": 1,
   "id": "23425ab1",
   "metadata": {},
   "outputs": [],
   "source": [
    "import pandas as pd\n",
    "import numpy as np"
   ]
  },
  {
   "cell_type": "code",
   "execution_count": 2,
   "id": "32043c69",
   "metadata": {},
   "outputs": [],
   "source": [
    "df = pd.read_csv('../data/all_stats.csv')\n",
    "player_val = pd.read_csv('../data/player_val_cleaned.csv')\n",
    "player_all_val = pd.read_csv('../data/players_val_all_cleaned.csv')\n",
    "player_wages = pd.read_csv('../data/player_wages.csv')"
   ]
  },
  {
   "cell_type": "code",
   "execution_count": 3,
   "id": "19338308",
   "metadata": {},
   "outputs": [],
   "source": [
    "player_val=player_val[['Player','Market value']]"
   ]
  },
  {
   "cell_type": "code",
   "execution_count": 4,
   "id": "a07d5878",
   "metadata": {},
   "outputs": [],
   "source": [
    "player_all = pd.concat([player_val, player_all_val], ignore_index=True)"
   ]
  },
  {
   "cell_type": "code",
   "execution_count": 5,
   "id": "dfbe2c94",
   "metadata": {},
   "outputs": [],
   "source": [
    "player_all.drop_duplicates(inplace=True)"
   ]
  },
  {
   "cell_type": "markdown",
   "id": "8665a125",
   "metadata": {},
   "source": [
    "In this notebook, Im going to merge the original data with the player valuation data, doing that I need to merge the table first."
   ]
  },
  {
   "cell_type": "markdown",
   "id": "0b268863",
   "metadata": {},
   "source": [
    "### Merge and Clean the Data"
   ]
  },
  {
   "cell_type": "code",
   "execution_count": 6,
   "id": "ede13140",
   "metadata": {},
   "outputs": [],
   "source": [
    "df_merge = pd.merge(df, player_all, on=['Player'], how='inner')"
   ]
  },
  {
   "cell_type": "code",
   "execution_count": 7,
   "id": "cef1a40d",
   "metadata": {},
   "outputs": [
    {
     "data": {
      "text/html": [
       "<div>\n",
       "<style scoped>\n",
       "    .dataframe tbody tr th:only-of-type {\n",
       "        vertical-align: middle;\n",
       "    }\n",
       "\n",
       "    .dataframe tbody tr th {\n",
       "        vertical-align: top;\n",
       "    }\n",
       "\n",
       "    .dataframe thead th {\n",
       "        text-align: right;\n",
       "    }\n",
       "</style>\n",
       "<table border=\"1\" class=\"dataframe\">\n",
       "  <thead>\n",
       "    <tr style=\"text-align: right;\">\n",
       "      <th></th>\n",
       "      <th>Player</th>\n",
       "      <th>Tkl</th>\n",
       "      <th>TklW</th>\n",
       "      <th>Tkl.1</th>\n",
       "      <th>Tkl%</th>\n",
       "      <th>Lost</th>\n",
       "      <th>Blocks</th>\n",
       "      <th>Pass</th>\n",
       "      <th>Int</th>\n",
       "      <th>Tkl+Int</th>\n",
       "      <th>...</th>\n",
       "      <th>Age</th>\n",
       "      <th>90s</th>\n",
       "      <th>Def 3rd</th>\n",
       "      <th>Mid 3rd</th>\n",
       "      <th>Att 3rd</th>\n",
       "      <th>TotDist</th>\n",
       "      <th>PrgDist</th>\n",
       "      <th>1/3</th>\n",
       "      <th>Country</th>\n",
       "      <th>Market value</th>\n",
       "    </tr>\n",
       "  </thead>\n",
       "  <tbody>\n",
       "    <tr>\n",
       "      <th>0</th>\n",
       "      <td>William Saliba</td>\n",
       "      <td>28</td>\n",
       "      <td>17</td>\n",
       "      <td>13</td>\n",
       "      <td>86.7</td>\n",
       "      <td>2</td>\n",
       "      <td>23</td>\n",
       "      <td>12</td>\n",
       "      <td>21</td>\n",
       "      <td>49</td>\n",
       "      <td>...</td>\n",
       "      <td>23</td>\n",
       "      <td>28.0</td>\n",
       "      <td>17</td>\n",
       "      <td>10</td>\n",
       "      <td>1</td>\n",
       "      <td>34755</td>\n",
       "      <td>12635</td>\n",
       "      <td>138</td>\n",
       "      <td>France</td>\n",
       "      <td>€80.00m</td>\n",
       "    </tr>\n",
       "    <tr>\n",
       "      <th>1</th>\n",
       "      <td>Declan Rice</td>\n",
       "      <td>55</td>\n",
       "      <td>34</td>\n",
       "      <td>24</td>\n",
       "      <td>58.5</td>\n",
       "      <td>17</td>\n",
       "      <td>31</td>\n",
       "      <td>21</td>\n",
       "      <td>35</td>\n",
       "      <td>90</td>\n",
       "      <td>...</td>\n",
       "      <td>25</td>\n",
       "      <td>26.6</td>\n",
       "      <td>28</td>\n",
       "      <td>21</td>\n",
       "      <td>6</td>\n",
       "      <td>28518</td>\n",
       "      <td>7674</td>\n",
       "      <td>204</td>\n",
       "      <td>United Kingdom</td>\n",
       "      <td>€110.00m</td>\n",
       "    </tr>\n",
       "    <tr>\n",
       "      <th>2</th>\n",
       "      <td>Bukayo Saka</td>\n",
       "      <td>49</td>\n",
       "      <td>26</td>\n",
       "      <td>20</td>\n",
       "      <td>44.4</td>\n",
       "      <td>25</td>\n",
       "      <td>37</td>\n",
       "      <td>35</td>\n",
       "      <td>10</td>\n",
       "      <td>59</td>\n",
       "      <td>...</td>\n",
       "      <td>22</td>\n",
       "      <td>25.1</td>\n",
       "      <td>18</td>\n",
       "      <td>15</td>\n",
       "      <td>16</td>\n",
       "      <td>13843</td>\n",
       "      <td>3481</td>\n",
       "      <td>29</td>\n",
       "      <td>United Kingdom</td>\n",
       "      <td>€130.00m</td>\n",
       "    </tr>\n",
       "    <tr>\n",
       "      <th>3</th>\n",
       "      <td>Martin Ødegaard</td>\n",
       "      <td>34</td>\n",
       "      <td>13</td>\n",
       "      <td>11</td>\n",
       "      <td>28.9</td>\n",
       "      <td>27</td>\n",
       "      <td>18</td>\n",
       "      <td>17</td>\n",
       "      <td>7</td>\n",
       "      <td>41</td>\n",
       "      <td>...</td>\n",
       "      <td>25</td>\n",
       "      <td>24.5</td>\n",
       "      <td>8</td>\n",
       "      <td>19</td>\n",
       "      <td>7</td>\n",
       "      <td>19337</td>\n",
       "      <td>5570</td>\n",
       "      <td>121</td>\n",
       "      <td>Norway</td>\n",
       "      <td>€95.00m</td>\n",
       "    </tr>\n",
       "    <tr>\n",
       "      <th>4</th>\n",
       "      <td>Ben White</td>\n",
       "      <td>31</td>\n",
       "      <td>19</td>\n",
       "      <td>15</td>\n",
       "      <td>48.4</td>\n",
       "      <td>16</td>\n",
       "      <td>30</td>\n",
       "      <td>14</td>\n",
       "      <td>24</td>\n",
       "      <td>55</td>\n",
       "      <td>...</td>\n",
       "      <td>26</td>\n",
       "      <td>23.7</td>\n",
       "      <td>13</td>\n",
       "      <td>15</td>\n",
       "      <td>3</td>\n",
       "      <td>21584</td>\n",
       "      <td>7206</td>\n",
       "      <td>128</td>\n",
       "      <td>United Kingdom</td>\n",
       "      <td>€55.00m</td>\n",
       "    </tr>\n",
       "  </tbody>\n",
       "</table>\n",
       "<p>5 rows × 92 columns</p>\n",
       "</div>"
      ],
      "text/plain": [
       "            Player  Tkl  TklW  Tkl.1  Tkl%  Lost  Blocks  Pass  Int  Tkl+Int  \\\n",
       "0   William Saliba   28    17     13  86.7     2      23    12   21       49   \n",
       "1      Declan Rice   55    34     24  58.5    17      31    21   35       90   \n",
       "2      Bukayo Saka   49    26     20  44.4    25      37    35   10       59   \n",
       "3  Martin Ødegaard   34    13     11  28.9    27      18    17    7       41   \n",
       "4        Ben White   31    19     15  48.4    16      30    14   24       55   \n",
       "\n",
       "   ...  Age   90s Def 3rd  Mid 3rd  Att 3rd  TotDist  PrgDist  1/3  \\\n",
       "0  ...   23  28.0      17       10        1    34755    12635  138   \n",
       "1  ...   25  26.6      28       21        6    28518     7674  204   \n",
       "2  ...   22  25.1      18       15       16    13843     3481   29   \n",
       "3  ...   25  24.5       8       19        7    19337     5570  121   \n",
       "4  ...   26  23.7      13       15        3    21584     7206  128   \n",
       "\n",
       "          Country  Market value  \n",
       "0          France       €80.00m  \n",
       "1  United Kingdom      €110.00m  \n",
       "2  United Kingdom      €130.00m  \n",
       "3          Norway       €95.00m  \n",
       "4  United Kingdom       €55.00m  \n",
       "\n",
       "[5 rows x 92 columns]"
      ]
     },
     "execution_count": 7,
     "metadata": {},
     "output_type": "execute_result"
    }
   ],
   "source": [
    "df_merge.head()"
   ]
  },
  {
   "cell_type": "code",
   "execution_count": 8,
   "id": "f9a64cd5",
   "metadata": {},
   "outputs": [],
   "source": [
    "df_merge['Market value'] = (df_merge['Market value'].str.replace('€', '')\n",
    "                      .str.replace('m', 'e6')\n",
    "                      .str.replace('k', 'e3')\n",
    "                      .astype(float))"
   ]
  },
  {
   "cell_type": "code",
   "execution_count": 9,
   "id": "db92fb4e",
   "metadata": {},
   "outputs": [
    {
     "data": {
      "text/html": [
       "<div>\n",
       "<style scoped>\n",
       "    .dataframe tbody tr th:only-of-type {\n",
       "        vertical-align: middle;\n",
       "    }\n",
       "\n",
       "    .dataframe tbody tr th {\n",
       "        vertical-align: top;\n",
       "    }\n",
       "\n",
       "    .dataframe thead th {\n",
       "        text-align: right;\n",
       "    }\n",
       "</style>\n",
       "<table border=\"1\" class=\"dataframe\">\n",
       "  <thead>\n",
       "    <tr style=\"text-align: right;\">\n",
       "      <th></th>\n",
       "      <th>Player</th>\n",
       "      <th>Tkl</th>\n",
       "      <th>TklW</th>\n",
       "      <th>Tkl.1</th>\n",
       "      <th>Tkl%</th>\n",
       "      <th>Lost</th>\n",
       "      <th>Blocks</th>\n",
       "      <th>Pass</th>\n",
       "      <th>Int</th>\n",
       "      <th>Tkl+Int</th>\n",
       "      <th>...</th>\n",
       "      <th>Age</th>\n",
       "      <th>90s</th>\n",
       "      <th>Def 3rd</th>\n",
       "      <th>Mid 3rd</th>\n",
       "      <th>Att 3rd</th>\n",
       "      <th>TotDist</th>\n",
       "      <th>PrgDist</th>\n",
       "      <th>1/3</th>\n",
       "      <th>Country</th>\n",
       "      <th>Market value</th>\n",
       "    </tr>\n",
       "  </thead>\n",
       "  <tbody>\n",
       "    <tr>\n",
       "      <th>0</th>\n",
       "      <td>William Saliba</td>\n",
       "      <td>28</td>\n",
       "      <td>17</td>\n",
       "      <td>13</td>\n",
       "      <td>86.7</td>\n",
       "      <td>2</td>\n",
       "      <td>23</td>\n",
       "      <td>12</td>\n",
       "      <td>21</td>\n",
       "      <td>49</td>\n",
       "      <td>...</td>\n",
       "      <td>23</td>\n",
       "      <td>28.0</td>\n",
       "      <td>17</td>\n",
       "      <td>10</td>\n",
       "      <td>1</td>\n",
       "      <td>34755</td>\n",
       "      <td>12635</td>\n",
       "      <td>138</td>\n",
       "      <td>France</td>\n",
       "      <td>80000000.0</td>\n",
       "    </tr>\n",
       "    <tr>\n",
       "      <th>1</th>\n",
       "      <td>Declan Rice</td>\n",
       "      <td>55</td>\n",
       "      <td>34</td>\n",
       "      <td>24</td>\n",
       "      <td>58.5</td>\n",
       "      <td>17</td>\n",
       "      <td>31</td>\n",
       "      <td>21</td>\n",
       "      <td>35</td>\n",
       "      <td>90</td>\n",
       "      <td>...</td>\n",
       "      <td>25</td>\n",
       "      <td>26.6</td>\n",
       "      <td>28</td>\n",
       "      <td>21</td>\n",
       "      <td>6</td>\n",
       "      <td>28518</td>\n",
       "      <td>7674</td>\n",
       "      <td>204</td>\n",
       "      <td>United Kingdom</td>\n",
       "      <td>110000000.0</td>\n",
       "    </tr>\n",
       "    <tr>\n",
       "      <th>2</th>\n",
       "      <td>Bukayo Saka</td>\n",
       "      <td>49</td>\n",
       "      <td>26</td>\n",
       "      <td>20</td>\n",
       "      <td>44.4</td>\n",
       "      <td>25</td>\n",
       "      <td>37</td>\n",
       "      <td>35</td>\n",
       "      <td>10</td>\n",
       "      <td>59</td>\n",
       "      <td>...</td>\n",
       "      <td>22</td>\n",
       "      <td>25.1</td>\n",
       "      <td>18</td>\n",
       "      <td>15</td>\n",
       "      <td>16</td>\n",
       "      <td>13843</td>\n",
       "      <td>3481</td>\n",
       "      <td>29</td>\n",
       "      <td>United Kingdom</td>\n",
       "      <td>130000000.0</td>\n",
       "    </tr>\n",
       "    <tr>\n",
       "      <th>3</th>\n",
       "      <td>Martin Ødegaard</td>\n",
       "      <td>34</td>\n",
       "      <td>13</td>\n",
       "      <td>11</td>\n",
       "      <td>28.9</td>\n",
       "      <td>27</td>\n",
       "      <td>18</td>\n",
       "      <td>17</td>\n",
       "      <td>7</td>\n",
       "      <td>41</td>\n",
       "      <td>...</td>\n",
       "      <td>25</td>\n",
       "      <td>24.5</td>\n",
       "      <td>8</td>\n",
       "      <td>19</td>\n",
       "      <td>7</td>\n",
       "      <td>19337</td>\n",
       "      <td>5570</td>\n",
       "      <td>121</td>\n",
       "      <td>Norway</td>\n",
       "      <td>95000000.0</td>\n",
       "    </tr>\n",
       "    <tr>\n",
       "      <th>4</th>\n",
       "      <td>Ben White</td>\n",
       "      <td>31</td>\n",
       "      <td>19</td>\n",
       "      <td>15</td>\n",
       "      <td>48.4</td>\n",
       "      <td>16</td>\n",
       "      <td>30</td>\n",
       "      <td>14</td>\n",
       "      <td>24</td>\n",
       "      <td>55</td>\n",
       "      <td>...</td>\n",
       "      <td>26</td>\n",
       "      <td>23.7</td>\n",
       "      <td>13</td>\n",
       "      <td>15</td>\n",
       "      <td>3</td>\n",
       "      <td>21584</td>\n",
       "      <td>7206</td>\n",
       "      <td>128</td>\n",
       "      <td>United Kingdom</td>\n",
       "      <td>55000000.0</td>\n",
       "    </tr>\n",
       "  </tbody>\n",
       "</table>\n",
       "<p>5 rows × 92 columns</p>\n",
       "</div>"
      ],
      "text/plain": [
       "            Player  Tkl  TklW  Tkl.1  Tkl%  Lost  Blocks  Pass  Int  Tkl+Int  \\\n",
       "0   William Saliba   28    17     13  86.7     2      23    12   21       49   \n",
       "1      Declan Rice   55    34     24  58.5    17      31    21   35       90   \n",
       "2      Bukayo Saka   49    26     20  44.4    25      37    35   10       59   \n",
       "3  Martin Ødegaard   34    13     11  28.9    27      18    17    7       41   \n",
       "4        Ben White   31    19     15  48.4    16      30    14   24       55   \n",
       "\n",
       "   ...  Age   90s Def 3rd  Mid 3rd  Att 3rd  TotDist  PrgDist  1/3  \\\n",
       "0  ...   23  28.0      17       10        1    34755    12635  138   \n",
       "1  ...   25  26.6      28       21        6    28518     7674  204   \n",
       "2  ...   22  25.1      18       15       16    13843     3481   29   \n",
       "3  ...   25  24.5       8       19        7    19337     5570  121   \n",
       "4  ...   26  23.7      13       15        3    21584     7206  128   \n",
       "\n",
       "          Country  Market value  \n",
       "0          France    80000000.0  \n",
       "1  United Kingdom   110000000.0  \n",
       "2  United Kingdom   130000000.0  \n",
       "3          Norway    95000000.0  \n",
       "4  United Kingdom    55000000.0  \n",
       "\n",
       "[5 rows x 92 columns]"
      ]
     },
     "execution_count": 9,
     "metadata": {},
     "output_type": "execute_result"
    }
   ],
   "source": [
    "df_merge.head()"
   ]
  },
  {
   "cell_type": "code",
   "execution_count": 10,
   "id": "5b8be1b7",
   "metadata": {},
   "outputs": [],
   "source": [
    "df_merge['Market value']=df_merge['Market value']/1000000"
   ]
  },
  {
   "cell_type": "code",
   "execution_count": 11,
   "id": "ad202e5d",
   "metadata": {},
   "outputs": [],
   "source": [
    "# Merge with player_wages\n",
    "df_merge= pd.merge(df_merge,player_wages,on='Player',how='inner')"
   ]
  },
  {
   "cell_type": "code",
   "execution_count": 12,
   "id": "07a14b63",
   "metadata": {},
   "outputs": [],
   "source": [
    "# Select only the numeric columns \n",
    "df_numeric = df_merge.select_dtypes(include=['float64', 'int64'])"
   ]
  },
  {
   "cell_type": "markdown",
   "id": "524ae2d3",
   "metadata": {},
   "source": [
    "### Train the Data"
   ]
  },
  {
   "cell_type": "markdown",
   "id": "59411bdf",
   "metadata": {},
   "source": [
    "In this project, I will use Root Mean Squared Error as the metrics. The reason is listed below:\n",
    "- Interpretability: It's expressed in the same units as the target variable.\n",
    "- Robustness: It's less sensitive to outliers compared to other metrics.\n",
    "- Model Differentiation: Lower RMSE values indicate better model performance.\n",
    "- Gradient-based Optimization: It aligns well with optimization algorithms.\n",
    "- Error Magnitude: It quantifies the typical deviation of predictions from actual values."
   ]
  },
  {
   "cell_type": "code",
   "execution_count": 13,
   "id": "7018fa77",
   "metadata": {},
   "outputs": [],
   "source": [
    "from sklearn.model_selection import train_test_split\n",
    "\n",
    "X = df_numeric.drop(columns=['Market value'])\n",
    "y = df_numeric['Market value'] \n",
    "\n",
    "# Split the data into training and testing sets\n",
    "X_train, X_test, y_train, y_test = train_test_split(X, y, test_size=0.2, random_state=42)"
   ]
  },
  {
   "cell_type": "code",
   "execution_count": 14,
   "id": "a7faa877",
   "metadata": {},
   "outputs": [
    {
     "name": "stdout",
     "output_type": "stream",
     "text": [
      "Root Mean Squared Error: 13.77282640300494\n"
     ]
    }
   ],
   "source": [
    "from sklearn.linear_model import LinearRegression\n",
    "from sklearn.metrics import mean_squared_error\n",
    "\n",
    "# Create a linear regression model\n",
    "model = LinearRegression()\n",
    "model.fit(X_train, y_train)\n",
    "y_pred = model.predict(X_test)\n",
    "\n",
    "# Evaluate the model performance using Root Mean Squared Error (RMSE)\n",
    "mse = mean_squared_error(y_test, y_pred,squared=False)\n",
    "print(\"Root Mean Squared Error:\", mse)"
   ]
  },
  {
   "cell_type": "code",
   "execution_count": 15,
   "id": "53af82c6",
   "metadata": {},
   "outputs": [],
   "source": [
    "from sklearn.preprocessing import StandardScaler\n",
    "\n",
    "# Initialize the StandardScaler\n",
    "scaler = StandardScaler()\n",
    "\n",
    "# Fit and transform the scaler on the training data\n",
    "X_train_scaled = scaler.fit_transform(X_train)\n",
    "X_test_scaled = scaler.transform(X_test)"
   ]
  },
  {
   "cell_type": "markdown",
   "id": "65bf1838",
   "metadata": {},
   "source": [
    "The initial model yielded unsatisfactory results with an RMSE of 310, likely due to the absence of data preprocessing. To address this, let's attempt to scale the data and reevaluate the model's performance."
   ]
  },
  {
   "cell_type": "code",
   "execution_count": 16,
   "id": "328f98e5",
   "metadata": {},
   "outputs": [
    {
     "name": "stdout",
     "output_type": "stream",
     "text": [
      "Root Mean Squared Error: 13.772766629607615\n"
     ]
    }
   ],
   "source": [
    "from sklearn.linear_model import LinearRegression\n",
    "from sklearn.model_selection import GridSearchCV\n",
    "from sklearn.metrics import mean_squared_error\n",
    "\n",
    "# Create a linear regression model\n",
    "model = LinearRegression()\n",
    "model.fit(X_train_scaled, y_train)\n",
    "y_pred = model.predict(X_test_scaled)\n",
    "\n",
    "# Evaluate the model performance using Root Mean Squared Error (RMSE)\n",
    "mse = mean_squared_error(y_test, y_pred,squared=False)\n",
    "print(\"Root Mean Squared Error:\", mse)\n"
   ]
  },
  {
   "cell_type": "markdown",
   "id": "bacde869",
   "metadata": {},
   "source": [
    "After incorporating the new feature of player wages, the model also demonstrated improvement, reducing the initial RMSE from 16 to 13."
   ]
  },
  {
   "cell_type": "markdown",
   "id": "db09a1cb",
   "metadata": {},
   "source": [
    "#### Ridge Regression"
   ]
  },
  {
   "cell_type": "code",
   "execution_count": 17,
   "id": "cfde5eba",
   "metadata": {},
   "outputs": [
    {
     "name": "stdout",
     "output_type": "stream",
     "text": [
      "Best Hyperparameters: {'alpha': 10.0}\n",
      "Root Mean Squared Error: 13.580294982770166\n"
     ]
    }
   ],
   "source": [
    "from sklearn.linear_model import Ridge\n",
    "\n",
    "# Define the parameter grid\n",
    "param_grid = {\n",
    "    'alpha': [0.001, 0.01, 0.1, 1.0, 10.0]\n",
    "}\n",
    "\n",
    "# Initialize the Ridge regression model and Gridsearch\n",
    "ridge_model = Ridge(random_state=42)\n",
    "grid_search = GridSearchCV(estimator=ridge_model, param_grid=param_grid, scoring='neg_mean_squared_error', cv=5)\n",
    "grid_search.fit(X_train, y_train)\n",
    "\n",
    "# Get the best hyperparameters\n",
    "best_params = grid_search.best_params_\n",
    "print(\"Best Hyperparameters:\", best_params)\n",
    "\n",
    "# Train the final Ridge model with the best hyperparameters\n",
    "best_model = grid_search.best_estimator_\n",
    "best_model.fit(X_train, y_train)\n",
    "\n",
    "# Predict the target variable and evaluate\n",
    "\n",
    "y_pred = best_model.predict(X_test)\n",
    "mse = mean_squared_error(y_test, y_pred,squared=False)\n",
    "\n",
    "print(\"Root Mean Squared Error:\", mse)\n"
   ]
  },
  {
   "cell_type": "markdown",
   "id": "15fe9d1c",
   "metadata": {},
   "source": [
    "#### Decision Tree Regressor"
   ]
  },
  {
   "cell_type": "code",
   "execution_count": 18,
   "id": "3373ca5b",
   "metadata": {},
   "outputs": [
    {
     "name": "stdout",
     "output_type": "stream",
     "text": [
      "Best Hyperparameters for Decision Tree Regressor: {'max_depth': 5, 'min_samples_leaf': 4, 'min_samples_split': 10}\n",
      "Root Mean Squared Error for Decision Tree Regressor: 16.541646533864398\n"
     ]
    }
   ],
   "source": [
    "from sklearn.tree import DecisionTreeRegressor\n",
    "\n",
    "# Define the parameter grid for Decision Tree Regressor\n",
    "param_grid_dt = {\n",
    "    'max_depth': [None, 5, 10, 15], \n",
    "    'min_samples_split': [2, 5, 10],  \n",
    "    'min_samples_leaf': [1, 2, 4]  \n",
    "}\n",
    "\n",
    "# Initialize the Decision Tree Regressor model and GridSearch\n",
    "dt_model = DecisionTreeRegressor(random_state=42)\n",
    "grid_search_dt = GridSearchCV(estimator=dt_model, param_grid=param_grid_dt, scoring='neg_mean_squared_error', cv=5)\n",
    "grid_search_dt.fit(X_train, y_train)\n",
    "\n",
    "# Get the best hyperparameters for Decision Tree Regressor\n",
    "best_params_dt = grid_search_dt.best_params_\n",
    "print(\"Best Hyperparameters for Decision Tree Regressor:\", best_params_dt)\n",
    "\n",
    "# Train the final Decision Tree Regressor model with the best hyperparameters\n",
    "best_dt_model = grid_search_dt.best_estimator_\n",
    "best_dt_model.fit(X_train, y_train)\n",
    "\n",
    "# Predict the target variable and evaluate\n",
    "y_pred = best_dt_model.predict(X_test)\n",
    "mse = mean_squared_error(y_test, y_pred,squared=False)\n",
    "print(\"Root Mean Squared Error for Decision Tree Regressor:\", mse)\n"
   ]
  },
  {
   "cell_type": "markdown",
   "id": "e9b712d3",
   "metadata": {},
   "source": [
    "#### XGBoost Regressor"
   ]
  },
  {
   "cell_type": "code",
   "execution_count": 19,
   "id": "89192f60",
   "metadata": {},
   "outputs": [
    {
     "name": "stdout",
     "output_type": "stream",
     "text": [
      "Best Hyperparameters for XGBoost: {'colsample_bytree': 0.7, 'learning_rate': 0.1, 'max_depth': 3, 'min_child_weight': 5, 'subsample': 0.8}\n",
      "Root Mean Squared Error for XGBoost: 11.150994537655462\n"
     ]
    }
   ],
   "source": [
    "import xgboost as xgb\n",
    "\n",
    "# Define the parameter grid for XGBoost\n",
    "param_grid_xgb = {\n",
    "    'learning_rate': [0.01, 0.1, 0.2],  \n",
    "    'max_depth': [3, 5], \n",
    "    'min_child_weight': [ 3, 5],  \n",
    "    'subsample': [0.6, 0.8], \n",
    "    'colsample_bytree': [0.5, 0.7] \n",
    "}\n",
    "\n",
    "# Initialize the XGBoost Regressor model and GridSearch\n",
    "xgb_model = xgb.XGBRegressor(random_state=42)\n",
    "grid_search_xgb = GridSearchCV(estimator=xgb_model, param_grid=param_grid_xgb, scoring='neg_mean_squared_error', cv=5)\n",
    "grid_search_xgb.fit(X_train, y_train)\n",
    "\n",
    "# Get the best hyperparameters for XGBoost\n",
    "best_params_xgb = grid_search_xgb.best_params_\n",
    "print(\"Best Hyperparameters for XGBoost:\", best_params_xgb)\n",
    "\n",
    "# Train the final XGBoost model with the best hyperparameters\n",
    "best_xgb_model = grid_search_xgb.best_estimator_\n",
    "best_xgb_model.fit(X_train, y_train)\n",
    "\n",
    "# Predict the target variable and evaluate\n",
    "y_pred_xgb = best_xgb_model.predict(X_test)\n",
    "mse = mean_squared_error(y_test, y_pred_xgb,squared=False)\n",
    "\n",
    "print(\"Root Mean Squared Error for XGBoost:\", mse)\n"
   ]
  },
  {
   "cell_type": "markdown",
   "id": "70f8051b",
   "metadata": {},
   "source": [
    "The XGBoost regression model outperformed the Decision Tree regressor and Ridge Regression, yielding the lowest RMSE of 17.8 compared to 25.3 and 33.1, respectively. Therefore, the conclusion is that the XGBoost regressor is superior to the Decision Tree regressor, which in turn is better than Ridge Regression."
   ]
  },
  {
   "cell_type": "markdown",
   "id": "0fb6e50f",
   "metadata": {},
   "source": [
    "### Test the Model"
   ]
  },
  {
   "cell_type": "code",
   "execution_count": 20,
   "id": "ffe11a9c",
   "metadata": {},
   "outputs": [],
   "source": [
    "def predict_valuation(df,name,model):\n",
    "    df=df[df['Player']==name]\n",
    "    df = df.select_dtypes(include=['float64', 'int64'])\n",
    "    result = model.predict(df)\n",
    "    print(name,'valuation: ', result[0])"
   ]
  },
  {
   "cell_type": "code",
   "execution_count": 21,
   "id": "86cf39a6",
   "metadata": {},
   "outputs": [
    {
     "ename": "ValueError",
     "evalue": "The feature names should match those that were passed during fit.\nFeature names seen at fit time, yet now missing:\n- Weekly Wages\n",
     "output_type": "error",
     "traceback": [
      "\u001b[0;31m---------------------------------------------------------------------------\u001b[0m",
      "\u001b[0;31mValueError\u001b[0m                                Traceback (most recent call last)",
      "Cell \u001b[0;32mIn[21], line 1\u001b[0m\n\u001b[0;32m----> 1\u001b[0m predict_valuation(df,\u001b[38;5;124m'\u001b[39m\u001b[38;5;124mJack Robinson\u001b[39m\u001b[38;5;124m'\u001b[39m,best_model)\n",
      "Cell \u001b[0;32mIn[20], line 4\u001b[0m, in \u001b[0;36mpredict_valuation\u001b[0;34m(df, name, model)\u001b[0m\n\u001b[1;32m      2\u001b[0m df\u001b[38;5;241m=\u001b[39mdf[df[\u001b[38;5;124m'\u001b[39m\u001b[38;5;124mPlayer\u001b[39m\u001b[38;5;124m'\u001b[39m]\u001b[38;5;241m==\u001b[39mname]\n\u001b[1;32m      3\u001b[0m df \u001b[38;5;241m=\u001b[39m df\u001b[38;5;241m.\u001b[39mselect_dtypes(include\u001b[38;5;241m=\u001b[39m[\u001b[38;5;124m'\u001b[39m\u001b[38;5;124mfloat64\u001b[39m\u001b[38;5;124m'\u001b[39m, \u001b[38;5;124m'\u001b[39m\u001b[38;5;124mint64\u001b[39m\u001b[38;5;124m'\u001b[39m])\n\u001b[0;32m----> 4\u001b[0m result \u001b[38;5;241m=\u001b[39m model\u001b[38;5;241m.\u001b[39mpredict(df)\n\u001b[1;32m      5\u001b[0m \u001b[38;5;28mprint\u001b[39m(name,\u001b[38;5;124m'\u001b[39m\u001b[38;5;124mvaluation: \u001b[39m\u001b[38;5;124m'\u001b[39m, result[\u001b[38;5;241m0\u001b[39m])\n",
      "File \u001b[0;32m~/anaconda3/lib/python3.11/site-packages/sklearn/linear_model/_base.py:386\u001b[0m, in \u001b[0;36mLinearModel.predict\u001b[0;34m(self, X)\u001b[0m\n\u001b[1;32m    372\u001b[0m \u001b[38;5;28;01mdef\u001b[39;00m \u001b[38;5;21mpredict\u001b[39m(\u001b[38;5;28mself\u001b[39m, X):\n\u001b[1;32m    373\u001b[0m \u001b[38;5;250m    \u001b[39m\u001b[38;5;124;03m\"\"\"\u001b[39;00m\n\u001b[1;32m    374\u001b[0m \u001b[38;5;124;03m    Predict using the linear model.\u001b[39;00m\n\u001b[1;32m    375\u001b[0m \n\u001b[0;32m   (...)\u001b[0m\n\u001b[1;32m    384\u001b[0m \u001b[38;5;124;03m        Returns predicted values.\u001b[39;00m\n\u001b[1;32m    385\u001b[0m \u001b[38;5;124;03m    \"\"\"\u001b[39;00m\n\u001b[0;32m--> 386\u001b[0m     \u001b[38;5;28;01mreturn\u001b[39;00m \u001b[38;5;28mself\u001b[39m\u001b[38;5;241m.\u001b[39m_decision_function(X)\n",
      "File \u001b[0;32m~/anaconda3/lib/python3.11/site-packages/sklearn/linear_model/_base.py:369\u001b[0m, in \u001b[0;36mLinearModel._decision_function\u001b[0;34m(self, X)\u001b[0m\n\u001b[1;32m    366\u001b[0m \u001b[38;5;28;01mdef\u001b[39;00m \u001b[38;5;21m_decision_function\u001b[39m(\u001b[38;5;28mself\u001b[39m, X):\n\u001b[1;32m    367\u001b[0m     check_is_fitted(\u001b[38;5;28mself\u001b[39m)\n\u001b[0;32m--> 369\u001b[0m     X \u001b[38;5;241m=\u001b[39m \u001b[38;5;28mself\u001b[39m\u001b[38;5;241m.\u001b[39m_validate_data(X, accept_sparse\u001b[38;5;241m=\u001b[39m[\u001b[38;5;124m\"\u001b[39m\u001b[38;5;124mcsr\u001b[39m\u001b[38;5;124m\"\u001b[39m, \u001b[38;5;124m\"\u001b[39m\u001b[38;5;124mcsc\u001b[39m\u001b[38;5;124m\"\u001b[39m, \u001b[38;5;124m\"\u001b[39m\u001b[38;5;124mcoo\u001b[39m\u001b[38;5;124m\"\u001b[39m], reset\u001b[38;5;241m=\u001b[39m\u001b[38;5;28;01mFalse\u001b[39;00m)\n\u001b[1;32m    370\u001b[0m     \u001b[38;5;28;01mreturn\u001b[39;00m safe_sparse_dot(X, \u001b[38;5;28mself\u001b[39m\u001b[38;5;241m.\u001b[39mcoef_\u001b[38;5;241m.\u001b[39mT, dense_output\u001b[38;5;241m=\u001b[39m\u001b[38;5;28;01mTrue\u001b[39;00m) \u001b[38;5;241m+\u001b[39m \u001b[38;5;28mself\u001b[39m\u001b[38;5;241m.\u001b[39mintercept_\n",
      "File \u001b[0;32m~/anaconda3/lib/python3.11/site-packages/sklearn/base.py:579\u001b[0m, in \u001b[0;36mBaseEstimator._validate_data\u001b[0;34m(self, X, y, reset, validate_separately, cast_to_ndarray, **check_params)\u001b[0m\n\u001b[1;32m    508\u001b[0m \u001b[38;5;28;01mdef\u001b[39;00m \u001b[38;5;21m_validate_data\u001b[39m(\n\u001b[1;32m    509\u001b[0m     \u001b[38;5;28mself\u001b[39m,\n\u001b[1;32m    510\u001b[0m     X\u001b[38;5;241m=\u001b[39m\u001b[38;5;124m\"\u001b[39m\u001b[38;5;124mno_validation\u001b[39m\u001b[38;5;124m\"\u001b[39m,\n\u001b[0;32m   (...)\u001b[0m\n\u001b[1;32m    515\u001b[0m     \u001b[38;5;241m*\u001b[39m\u001b[38;5;241m*\u001b[39mcheck_params,\n\u001b[1;32m    516\u001b[0m ):\n\u001b[1;32m    517\u001b[0m \u001b[38;5;250m    \u001b[39m\u001b[38;5;124;03m\"\"\"Validate input data and set or check the `n_features_in_` attribute.\u001b[39;00m\n\u001b[1;32m    518\u001b[0m \n\u001b[1;32m    519\u001b[0m \u001b[38;5;124;03m    Parameters\u001b[39;00m\n\u001b[0;32m   (...)\u001b[0m\n\u001b[1;32m    577\u001b[0m \u001b[38;5;124;03m        validated.\u001b[39;00m\n\u001b[1;32m    578\u001b[0m \u001b[38;5;124;03m    \"\"\"\u001b[39;00m\n\u001b[0;32m--> 579\u001b[0m     \u001b[38;5;28mself\u001b[39m\u001b[38;5;241m.\u001b[39m_check_feature_names(X, reset\u001b[38;5;241m=\u001b[39mreset)\n\u001b[1;32m    581\u001b[0m     \u001b[38;5;28;01mif\u001b[39;00m y \u001b[38;5;129;01mis\u001b[39;00m \u001b[38;5;28;01mNone\u001b[39;00m \u001b[38;5;129;01mand\u001b[39;00m \u001b[38;5;28mself\u001b[39m\u001b[38;5;241m.\u001b[39m_get_tags()[\u001b[38;5;124m\"\u001b[39m\u001b[38;5;124mrequires_y\u001b[39m\u001b[38;5;124m\"\u001b[39m]:\n\u001b[1;32m    582\u001b[0m         \u001b[38;5;28;01mraise\u001b[39;00m \u001b[38;5;167;01mValueError\u001b[39;00m(\n\u001b[1;32m    583\u001b[0m             \u001b[38;5;124mf\u001b[39m\u001b[38;5;124m\"\u001b[39m\u001b[38;5;124mThis \u001b[39m\u001b[38;5;132;01m{\u001b[39;00m\u001b[38;5;28mself\u001b[39m\u001b[38;5;241m.\u001b[39m\u001b[38;5;18m__class__\u001b[39m\u001b[38;5;241m.\u001b[39m\u001b[38;5;18m__name__\u001b[39m\u001b[38;5;132;01m}\u001b[39;00m\u001b[38;5;124m estimator \u001b[39m\u001b[38;5;124m\"\u001b[39m\n\u001b[1;32m    584\u001b[0m             \u001b[38;5;124m\"\u001b[39m\u001b[38;5;124mrequires y to be passed, but the target y is None.\u001b[39m\u001b[38;5;124m\"\u001b[39m\n\u001b[1;32m    585\u001b[0m         )\n",
      "File \u001b[0;32m~/anaconda3/lib/python3.11/site-packages/sklearn/base.py:506\u001b[0m, in \u001b[0;36mBaseEstimator._check_feature_names\u001b[0;34m(self, X, reset)\u001b[0m\n\u001b[1;32m    501\u001b[0m \u001b[38;5;28;01mif\u001b[39;00m \u001b[38;5;129;01mnot\u001b[39;00m missing_names \u001b[38;5;129;01mand\u001b[39;00m \u001b[38;5;129;01mnot\u001b[39;00m unexpected_names:\n\u001b[1;32m    502\u001b[0m     message \u001b[38;5;241m+\u001b[39m\u001b[38;5;241m=\u001b[39m (\n\u001b[1;32m    503\u001b[0m         \u001b[38;5;124m\"\u001b[39m\u001b[38;5;124mFeature names must be in the same order as they were in fit.\u001b[39m\u001b[38;5;130;01m\\n\u001b[39;00m\u001b[38;5;124m\"\u001b[39m\n\u001b[1;32m    504\u001b[0m     )\n\u001b[0;32m--> 506\u001b[0m \u001b[38;5;28;01mraise\u001b[39;00m \u001b[38;5;167;01mValueError\u001b[39;00m(message)\n",
      "\u001b[0;31mValueError\u001b[0m: The feature names should match those that were passed during fit.\nFeature names seen at fit time, yet now missing:\n- Weekly Wages\n"
     ]
    }
   ],
   "source": [
    "predict_valuation(df,'Jack Robinson',best_model)"
   ]
  }
 ],
 "metadata": {
  "kernelspec": {
   "display_name": "Python 3 (ipykernel)",
   "language": "python",
   "name": "python3"
  },
  "language_info": {
   "codemirror_mode": {
    "name": "ipython",
    "version": 3
   },
   "file_extension": ".py",
   "mimetype": "text/x-python",
   "name": "python",
   "nbconvert_exporter": "python",
   "pygments_lexer": "ipython3",
   "version": "3.11.5"
  }
 },
 "nbformat": 4,
 "nbformat_minor": 5
}
