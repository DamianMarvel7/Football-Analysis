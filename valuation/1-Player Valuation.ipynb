{
 "cells": [
  {
   "cell_type": "code",
   "execution_count": 1,
   "id": "23425ab1",
   "metadata": {},
   "outputs": [],
   "source": [
    "import pandas as pd\n",
    "import numpy as np"
   ]
  },
  {
   "cell_type": "code",
   "execution_count": 2,
   "id": "32043c69",
   "metadata": {},
   "outputs": [],
   "source": [
    "df = pd.read_csv('./data/all_stats.csv')\n",
    "player_val = pd.read_csv('./data/player_val_cleaned.csv')"
   ]
  },
  {
   "cell_type": "markdown",
   "id": "8665a125",
   "metadata": {},
   "source": [
    "In this notebook, Im going to merge the original data with the player valuation data, doing that I need to merge the table first."
   ]
  },
  {
   "cell_type": "markdown",
   "id": "0b268863",
   "metadata": {},
   "source": [
    "### Merge and Clean the Data"
   ]
  },
  {
   "cell_type": "code",
   "execution_count": 3,
   "id": "ede13140",
   "metadata": {},
   "outputs": [],
   "source": [
    "df_merge = pd.merge(df, player_val[['Player','Market value']], on=['Player'], how='inner')"
   ]
  },
  {
   "cell_type": "code",
   "execution_count": 4,
   "id": "cef1a40d",
   "metadata": {},
   "outputs": [
    {
     "data": {
      "text/html": [
       "<div>\n",
       "<style scoped>\n",
       "    .dataframe tbody tr th:only-of-type {\n",
       "        vertical-align: middle;\n",
       "    }\n",
       "\n",
       "    .dataframe tbody tr th {\n",
       "        vertical-align: top;\n",
       "    }\n",
       "\n",
       "    .dataframe thead th {\n",
       "        text-align: right;\n",
       "    }\n",
       "</style>\n",
       "<table border=\"1\" class=\"dataframe\">\n",
       "  <thead>\n",
       "    <tr style=\"text-align: right;\">\n",
       "      <th></th>\n",
       "      <th>Player</th>\n",
       "      <th>Tkl</th>\n",
       "      <th>TklW</th>\n",
       "      <th>Tkl.1</th>\n",
       "      <th>Tkl%</th>\n",
       "      <th>Lost</th>\n",
       "      <th>Blocks</th>\n",
       "      <th>Pass</th>\n",
       "      <th>Int</th>\n",
       "      <th>Tkl+Int</th>\n",
       "      <th>...</th>\n",
       "      <th>Age</th>\n",
       "      <th>90s</th>\n",
       "      <th>Def 3rd</th>\n",
       "      <th>Mid 3rd</th>\n",
       "      <th>Att 3rd</th>\n",
       "      <th>TotDist</th>\n",
       "      <th>PrgDist</th>\n",
       "      <th>1/3</th>\n",
       "      <th>Country</th>\n",
       "      <th>Market value</th>\n",
       "    </tr>\n",
       "  </thead>\n",
       "  <tbody>\n",
       "    <tr>\n",
       "      <th>0</th>\n",
       "      <td>William Saliba</td>\n",
       "      <td>28</td>\n",
       "      <td>17</td>\n",
       "      <td>13</td>\n",
       "      <td>86.7</td>\n",
       "      <td>2</td>\n",
       "      <td>23</td>\n",
       "      <td>12</td>\n",
       "      <td>21</td>\n",
       "      <td>49</td>\n",
       "      <td>...</td>\n",
       "      <td>23</td>\n",
       "      <td>28.0</td>\n",
       "      <td>17</td>\n",
       "      <td>10</td>\n",
       "      <td>1</td>\n",
       "      <td>34755</td>\n",
       "      <td>12635</td>\n",
       "      <td>138</td>\n",
       "      <td>France</td>\n",
       "      <td>€80.00m</td>\n",
       "    </tr>\n",
       "    <tr>\n",
       "      <th>1</th>\n",
       "      <td>Declan Rice</td>\n",
       "      <td>55</td>\n",
       "      <td>34</td>\n",
       "      <td>24</td>\n",
       "      <td>58.5</td>\n",
       "      <td>17</td>\n",
       "      <td>31</td>\n",
       "      <td>21</td>\n",
       "      <td>35</td>\n",
       "      <td>90</td>\n",
       "      <td>...</td>\n",
       "      <td>25</td>\n",
       "      <td>26.6</td>\n",
       "      <td>28</td>\n",
       "      <td>21</td>\n",
       "      <td>6</td>\n",
       "      <td>28518</td>\n",
       "      <td>7674</td>\n",
       "      <td>204</td>\n",
       "      <td>United Kingdom</td>\n",
       "      <td>€110.00m</td>\n",
       "    </tr>\n",
       "    <tr>\n",
       "      <th>2</th>\n",
       "      <td>Bukayo Saka</td>\n",
       "      <td>49</td>\n",
       "      <td>26</td>\n",
       "      <td>20</td>\n",
       "      <td>44.4</td>\n",
       "      <td>25</td>\n",
       "      <td>37</td>\n",
       "      <td>35</td>\n",
       "      <td>10</td>\n",
       "      <td>59</td>\n",
       "      <td>...</td>\n",
       "      <td>22</td>\n",
       "      <td>25.1</td>\n",
       "      <td>18</td>\n",
       "      <td>15</td>\n",
       "      <td>16</td>\n",
       "      <td>13843</td>\n",
       "      <td>3481</td>\n",
       "      <td>29</td>\n",
       "      <td>United Kingdom</td>\n",
       "      <td>€130.00m</td>\n",
       "    </tr>\n",
       "    <tr>\n",
       "      <th>3</th>\n",
       "      <td>Martin Ødegaard</td>\n",
       "      <td>34</td>\n",
       "      <td>13</td>\n",
       "      <td>11</td>\n",
       "      <td>28.9</td>\n",
       "      <td>27</td>\n",
       "      <td>18</td>\n",
       "      <td>17</td>\n",
       "      <td>7</td>\n",
       "      <td>41</td>\n",
       "      <td>...</td>\n",
       "      <td>25</td>\n",
       "      <td>24.5</td>\n",
       "      <td>8</td>\n",
       "      <td>19</td>\n",
       "      <td>7</td>\n",
       "      <td>19337</td>\n",
       "      <td>5570</td>\n",
       "      <td>121</td>\n",
       "      <td>Norway</td>\n",
       "      <td>€95.00m</td>\n",
       "    </tr>\n",
       "    <tr>\n",
       "      <th>4</th>\n",
       "      <td>Ben White</td>\n",
       "      <td>31</td>\n",
       "      <td>19</td>\n",
       "      <td>15</td>\n",
       "      <td>48.4</td>\n",
       "      <td>16</td>\n",
       "      <td>30</td>\n",
       "      <td>14</td>\n",
       "      <td>24</td>\n",
       "      <td>55</td>\n",
       "      <td>...</td>\n",
       "      <td>26</td>\n",
       "      <td>23.7</td>\n",
       "      <td>13</td>\n",
       "      <td>15</td>\n",
       "      <td>3</td>\n",
       "      <td>21584</td>\n",
       "      <td>7206</td>\n",
       "      <td>128</td>\n",
       "      <td>United Kingdom</td>\n",
       "      <td>€55.00m</td>\n",
       "    </tr>\n",
       "  </tbody>\n",
       "</table>\n",
       "<p>5 rows × 92 columns</p>\n",
       "</div>"
      ],
      "text/plain": [
       "            Player  Tkl  TklW  Tkl.1  Tkl%  Lost  Blocks  Pass  Int  Tkl+Int  \\\n",
       "0   William Saliba   28    17     13  86.7     2      23    12   21       49   \n",
       "1      Declan Rice   55    34     24  58.5    17      31    21   35       90   \n",
       "2      Bukayo Saka   49    26     20  44.4    25      37    35   10       59   \n",
       "3  Martin Ødegaard   34    13     11  28.9    27      18    17    7       41   \n",
       "4        Ben White   31    19     15  48.4    16      30    14   24       55   \n",
       "\n",
       "   ...  Age   90s Def 3rd  Mid 3rd  Att 3rd  TotDist  PrgDist  1/3  \\\n",
       "0  ...   23  28.0      17       10        1    34755    12635  138   \n",
       "1  ...   25  26.6      28       21        6    28518     7674  204   \n",
       "2  ...   22  25.1      18       15       16    13843     3481   29   \n",
       "3  ...   25  24.5       8       19        7    19337     5570  121   \n",
       "4  ...   26  23.7      13       15        3    21584     7206  128   \n",
       "\n",
       "          Country  Market value  \n",
       "0          France       €80.00m  \n",
       "1  United Kingdom      €110.00m  \n",
       "2  United Kingdom      €130.00m  \n",
       "3          Norway       €95.00m  \n",
       "4  United Kingdom       €55.00m  \n",
       "\n",
       "[5 rows x 92 columns]"
      ]
     },
     "execution_count": 4,
     "metadata": {},
     "output_type": "execute_result"
    }
   ],
   "source": [
    "df_merge.head()"
   ]
  },
  {
   "cell_type": "code",
   "execution_count": 5,
   "id": "f9a64cd5",
   "metadata": {},
   "outputs": [],
   "source": [
    "# Preprocess the Market Value column\n",
    "df_merge['Market value'] =(df_merge['Market value'].str.replace('€', '')\n",
    "                              .str.replace('m', '')\n",
    "                              .astype(float))"
   ]
  },
  {
   "cell_type": "code",
   "execution_count": 6,
   "id": "db92fb4e",
   "metadata": {},
   "outputs": [
    {
     "data": {
      "text/html": [
       "<div>\n",
       "<style scoped>\n",
       "    .dataframe tbody tr th:only-of-type {\n",
       "        vertical-align: middle;\n",
       "    }\n",
       "\n",
       "    .dataframe tbody tr th {\n",
       "        vertical-align: top;\n",
       "    }\n",
       "\n",
       "    .dataframe thead th {\n",
       "        text-align: right;\n",
       "    }\n",
       "</style>\n",
       "<table border=\"1\" class=\"dataframe\">\n",
       "  <thead>\n",
       "    <tr style=\"text-align: right;\">\n",
       "      <th></th>\n",
       "      <th>Player</th>\n",
       "      <th>Tkl</th>\n",
       "      <th>TklW</th>\n",
       "      <th>Tkl.1</th>\n",
       "      <th>Tkl%</th>\n",
       "      <th>Lost</th>\n",
       "      <th>Blocks</th>\n",
       "      <th>Pass</th>\n",
       "      <th>Int</th>\n",
       "      <th>Tkl+Int</th>\n",
       "      <th>...</th>\n",
       "      <th>Age</th>\n",
       "      <th>90s</th>\n",
       "      <th>Def 3rd</th>\n",
       "      <th>Mid 3rd</th>\n",
       "      <th>Att 3rd</th>\n",
       "      <th>TotDist</th>\n",
       "      <th>PrgDist</th>\n",
       "      <th>1/3</th>\n",
       "      <th>Country</th>\n",
       "      <th>Market value</th>\n",
       "    </tr>\n",
       "  </thead>\n",
       "  <tbody>\n",
       "    <tr>\n",
       "      <th>0</th>\n",
       "      <td>William Saliba</td>\n",
       "      <td>28</td>\n",
       "      <td>17</td>\n",
       "      <td>13</td>\n",
       "      <td>86.7</td>\n",
       "      <td>2</td>\n",
       "      <td>23</td>\n",
       "      <td>12</td>\n",
       "      <td>21</td>\n",
       "      <td>49</td>\n",
       "      <td>...</td>\n",
       "      <td>23</td>\n",
       "      <td>28.0</td>\n",
       "      <td>17</td>\n",
       "      <td>10</td>\n",
       "      <td>1</td>\n",
       "      <td>34755</td>\n",
       "      <td>12635</td>\n",
       "      <td>138</td>\n",
       "      <td>France</td>\n",
       "      <td>80.0</td>\n",
       "    </tr>\n",
       "    <tr>\n",
       "      <th>1</th>\n",
       "      <td>Declan Rice</td>\n",
       "      <td>55</td>\n",
       "      <td>34</td>\n",
       "      <td>24</td>\n",
       "      <td>58.5</td>\n",
       "      <td>17</td>\n",
       "      <td>31</td>\n",
       "      <td>21</td>\n",
       "      <td>35</td>\n",
       "      <td>90</td>\n",
       "      <td>...</td>\n",
       "      <td>25</td>\n",
       "      <td>26.6</td>\n",
       "      <td>28</td>\n",
       "      <td>21</td>\n",
       "      <td>6</td>\n",
       "      <td>28518</td>\n",
       "      <td>7674</td>\n",
       "      <td>204</td>\n",
       "      <td>United Kingdom</td>\n",
       "      <td>110.0</td>\n",
       "    </tr>\n",
       "    <tr>\n",
       "      <th>2</th>\n",
       "      <td>Bukayo Saka</td>\n",
       "      <td>49</td>\n",
       "      <td>26</td>\n",
       "      <td>20</td>\n",
       "      <td>44.4</td>\n",
       "      <td>25</td>\n",
       "      <td>37</td>\n",
       "      <td>35</td>\n",
       "      <td>10</td>\n",
       "      <td>59</td>\n",
       "      <td>...</td>\n",
       "      <td>22</td>\n",
       "      <td>25.1</td>\n",
       "      <td>18</td>\n",
       "      <td>15</td>\n",
       "      <td>16</td>\n",
       "      <td>13843</td>\n",
       "      <td>3481</td>\n",
       "      <td>29</td>\n",
       "      <td>United Kingdom</td>\n",
       "      <td>130.0</td>\n",
       "    </tr>\n",
       "    <tr>\n",
       "      <th>3</th>\n",
       "      <td>Martin Ødegaard</td>\n",
       "      <td>34</td>\n",
       "      <td>13</td>\n",
       "      <td>11</td>\n",
       "      <td>28.9</td>\n",
       "      <td>27</td>\n",
       "      <td>18</td>\n",
       "      <td>17</td>\n",
       "      <td>7</td>\n",
       "      <td>41</td>\n",
       "      <td>...</td>\n",
       "      <td>25</td>\n",
       "      <td>24.5</td>\n",
       "      <td>8</td>\n",
       "      <td>19</td>\n",
       "      <td>7</td>\n",
       "      <td>19337</td>\n",
       "      <td>5570</td>\n",
       "      <td>121</td>\n",
       "      <td>Norway</td>\n",
       "      <td>95.0</td>\n",
       "    </tr>\n",
       "    <tr>\n",
       "      <th>4</th>\n",
       "      <td>Ben White</td>\n",
       "      <td>31</td>\n",
       "      <td>19</td>\n",
       "      <td>15</td>\n",
       "      <td>48.4</td>\n",
       "      <td>16</td>\n",
       "      <td>30</td>\n",
       "      <td>14</td>\n",
       "      <td>24</td>\n",
       "      <td>55</td>\n",
       "      <td>...</td>\n",
       "      <td>26</td>\n",
       "      <td>23.7</td>\n",
       "      <td>13</td>\n",
       "      <td>15</td>\n",
       "      <td>3</td>\n",
       "      <td>21584</td>\n",
       "      <td>7206</td>\n",
       "      <td>128</td>\n",
       "      <td>United Kingdom</td>\n",
       "      <td>55.0</td>\n",
       "    </tr>\n",
       "  </tbody>\n",
       "</table>\n",
       "<p>5 rows × 92 columns</p>\n",
       "</div>"
      ],
      "text/plain": [
       "            Player  Tkl  TklW  Tkl.1  Tkl%  Lost  Blocks  Pass  Int  Tkl+Int  \\\n",
       "0   William Saliba   28    17     13  86.7     2      23    12   21       49   \n",
       "1      Declan Rice   55    34     24  58.5    17      31    21   35       90   \n",
       "2      Bukayo Saka   49    26     20  44.4    25      37    35   10       59   \n",
       "3  Martin Ødegaard   34    13     11  28.9    27      18    17    7       41   \n",
       "4        Ben White   31    19     15  48.4    16      30    14   24       55   \n",
       "\n",
       "   ...  Age   90s Def 3rd  Mid 3rd  Att 3rd  TotDist  PrgDist  1/3  \\\n",
       "0  ...   23  28.0      17       10        1    34755    12635  138   \n",
       "1  ...   25  26.6      28       21        6    28518     7674  204   \n",
       "2  ...   22  25.1      18       15       16    13843     3481   29   \n",
       "3  ...   25  24.5       8       19        7    19337     5570  121   \n",
       "4  ...   26  23.7      13       15        3    21584     7206  128   \n",
       "\n",
       "          Country  Market value  \n",
       "0          France          80.0  \n",
       "1  United Kingdom         110.0  \n",
       "2  United Kingdom         130.0  \n",
       "3          Norway          95.0  \n",
       "4  United Kingdom          55.0  \n",
       "\n",
       "[5 rows x 92 columns]"
      ]
     },
     "execution_count": 6,
     "metadata": {},
     "output_type": "execute_result"
    }
   ],
   "source": [
    "df_merge.head()"
   ]
  },
  {
   "cell_type": "code",
   "execution_count": 7,
   "id": "07a14b63",
   "metadata": {},
   "outputs": [],
   "source": [
    "# Select only the numeric columns \n",
    "df_numeric = df_merge.select_dtypes(include=['float64', 'int64'])"
   ]
  },
  {
   "cell_type": "markdown",
   "id": "524ae2d3",
   "metadata": {},
   "source": [
    "### Train the Data"
   ]
  },
  {
   "cell_type": "markdown",
   "id": "59411bdf",
   "metadata": {},
   "source": [
    "In this project, I will use Root Mean Squared Error as the metrics. The reason is listed below:\n",
    "- Interpretability: It's expressed in the same units as the target variable.\n",
    "- Robustness: It's less sensitive to outliers compared to other metrics.\n",
    "- Model Differentiation: Lower RMSE values indicate better model performance.\n",
    "- Gradient-based Optimization: It aligns well with optimization algorithms.\n",
    "- Error Magnitude: It quantifies the typical deviation of predictions from actual values."
   ]
  },
  {
   "cell_type": "code",
   "execution_count": 8,
   "id": "7018fa77",
   "metadata": {},
   "outputs": [],
   "source": [
    "from sklearn.model_selection import train_test_split\n",
    "\n",
    "X = df_numeric.drop(columns=['Market value'])\n",
    "y = df_numeric['Market value'] \n",
    "\n",
    "# Split the data into training and testing sets\n",
    "X_train, X_test, y_train, y_test = train_test_split(X, y, test_size=0.2, random_state=42)"
   ]
  },
  {
   "cell_type": "code",
   "execution_count": 9,
   "id": "a7faa877",
   "metadata": {},
   "outputs": [
    {
     "name": "stdout",
     "output_type": "stream",
     "text": [
      "Root Mean Squared Error: 310.38495345207554\n"
     ]
    }
   ],
   "source": [
    "from sklearn.linear_model import LinearRegression\n",
    "from sklearn.metrics import mean_squared_error\n",
    "\n",
    "# Create a linear regression model\n",
    "model = LinearRegression()\n",
    "model.fit(X_train, y_train)\n",
    "y_pred = model.predict(X_test)\n",
    "\n",
    "# Evaluate the model performance using Root Mean Squared Error (RMSE)\n",
    "mse = mean_squared_error(y_test, y_pred,squared=False)\n",
    "print(\"Root Mean Squared Error:\", mse)"
   ]
  },
  {
   "cell_type": "code",
   "execution_count": 10,
   "id": "53af82c6",
   "metadata": {},
   "outputs": [],
   "source": [
    "from sklearn.preprocessing import StandardScaler\n",
    "\n",
    "# Initialize the StandardScaler\n",
    "scaler = StandardScaler()\n",
    "\n",
    "# Fit and transform the scaler on the training data\n",
    "X_train_scaled = scaler.fit_transform(X_train)\n",
    "X_test_scaled = scaler.transform(X_test)"
   ]
  },
  {
   "cell_type": "markdown",
   "id": "65bf1838",
   "metadata": {},
   "source": [
    "The initial model yielded unsatisfactory results with an RMSE of 310, likely due to the absence of data preprocessing. To address this, let's attempt to scale the data and reevaluate the model's performance."
   ]
  },
  {
   "cell_type": "code",
   "execution_count": 12,
   "id": "328f98e5",
   "metadata": {},
   "outputs": [
    {
     "name": "stdout",
     "output_type": "stream",
     "text": [
      "Root Mean Squared Error: 310.3849534533404\n"
     ]
    }
   ],
   "source": [
    "from sklearn.linear_model import LinearRegression\n",
    "from sklearn.model_selection import GridSearchCV\n",
    "from sklearn.metrics import mean_squared_error\n",
    "\n",
    "# Create a linear regression model\n",
    "model = LinearRegression()\n",
    "model.fit(X_train_scaled, y_train)\n",
    "y_pred = model.predict(X_test_scaled)\n",
    "\n",
    "# Evaluate the model performance using Root Mean Squared Error (RMSE)\n",
    "mse = mean_squared_error(y_test, y_pred,squared=False)\n",
    "print(\"Root Mean Squared Error:\", mse)\n"
   ]
  },
  {
   "cell_type": "markdown",
   "id": "bacde869",
   "metadata": {},
   "source": [
    "After scaling the data, the outcome appears unchanged. Let's explore alternative models such as Ridge Regression to introduce regularization, as well as Decision Trees and XGBoost to assess if different modeling approaches yield improved results."
   ]
  },
  {
   "cell_type": "markdown",
   "id": "db09a1cb",
   "metadata": {},
   "source": [
    "#### Ridge Regression"
   ]
  },
  {
   "cell_type": "code",
   "execution_count": 13,
   "id": "cfde5eba",
   "metadata": {},
   "outputs": [
    {
     "name": "stdout",
     "output_type": "stream",
     "text": [
      "Best Hyperparameters: {'alpha': 10.0}\n",
      "Root Mean Squared Error: 33.146085326315315\n"
     ]
    }
   ],
   "source": [
    "from sklearn.linear_model import Ridge\n",
    "\n",
    "# Define the parameter grid\n",
    "param_grid = {\n",
    "    'alpha': [0.001, 0.01, 0.1, 1.0, 10.0]\n",
    "}\n",
    "\n",
    "# Initialize the Ridge regression model and Gridsearch\n",
    "ridge_model = Ridge(random_state=42)\n",
    "grid_search = GridSearchCV(estimator=ridge_model, param_grid=param_grid, scoring='neg_mean_squared_error', cv=5)\n",
    "grid_search.fit(X_train, y_train)\n",
    "\n",
    "# Get the best hyperparameters\n",
    "best_params = grid_search.best_params_\n",
    "print(\"Best Hyperparameters:\", best_params)\n",
    "\n",
    "# Train the final Ridge model with the best hyperparameters\n",
    "best_model = grid_search.best_estimator_\n",
    "best_model.fit(X_train, y_train)\n",
    "\n",
    "# Predict the target variable and evaluate\n",
    "\n",
    "y_pred = best_model.predict(X_test)\n",
    "mse = mean_squared_error(y_test, y_pred,squared=False)\n",
    "\n",
    "print(\"Root Mean Squared Error:\", mse)\n"
   ]
  },
  {
   "cell_type": "markdown",
   "id": "15fe9d1c",
   "metadata": {},
   "source": [
    "#### Decision Tree Regressor"
   ]
  },
  {
   "cell_type": "code",
   "execution_count": 14,
   "id": "3373ca5b",
   "metadata": {},
   "outputs": [
    {
     "name": "stdout",
     "output_type": "stream",
     "text": [
      "Best Hyperparameters for Decision Tree Regressor: {'max_depth': None, 'min_samples_leaf': 4, 'min_samples_split': 2}\n",
      "Root Mean Squared Error for Decision Tree Regressor: 25.336138287921294\n"
     ]
    }
   ],
   "source": [
    "from sklearn.tree import DecisionTreeRegressor\n",
    "\n",
    "# Define the parameter grid for Decision Tree Regressor\n",
    "param_grid_dt = {\n",
    "    'max_depth': [None, 5, 10, 15], \n",
    "    'min_samples_split': [2, 5, 10],  \n",
    "    'min_samples_leaf': [1, 2, 4]  \n",
    "}\n",
    "\n",
    "# Initialize the Decision Tree Regressor model and GridSearch\n",
    "dt_model = DecisionTreeRegressor(random_state=42)\n",
    "grid_search_dt = GridSearchCV(estimator=dt_model, param_grid=param_grid_dt, scoring='neg_mean_squared_error', cv=5)\n",
    "grid_search_dt.fit(X_train, y_train)\n",
    "\n",
    "# Get the best hyperparameters for Decision Tree Regressor\n",
    "best_params_dt = grid_search_dt.best_params_\n",
    "print(\"Best Hyperparameters for Decision Tree Regressor:\", best_params_dt)\n",
    "\n",
    "# Train the final Decision Tree Regressor model with the best hyperparameters\n",
    "best_dt_model = grid_search_dt.best_estimator_\n",
    "best_dt_model.fit(X_train, y_train)\n",
    "\n",
    "# Predict the target variable and evaluate\n",
    "y_pred = best_dt_model.predict(X_test)\n",
    "mse = mean_squared_error(y_test, y_pred,squared=False)\n",
    "print(\"Root Mean Squared Error for Decision Tree Regressor:\", mse)\n"
   ]
  },
  {
   "cell_type": "markdown",
   "id": "e9b712d3",
   "metadata": {},
   "source": [
    "#### XGBoost Regressor"
   ]
  },
  {
   "cell_type": "code",
   "execution_count": 15,
   "id": "89192f60",
   "metadata": {},
   "outputs": [
    {
     "name": "stdout",
     "output_type": "stream",
     "text": [
      "Best Hyperparameters for XGBoost: {'colsample_bytree': 0.7, 'learning_rate': 0.1, 'max_depth': 3, 'min_child_weight': 3, 'subsample': 0.5}\n",
      "Root Mean Squared Error for XGBoost: 17.88607116615562\n"
     ]
    }
   ],
   "source": [
    "import xgboost as xgb\n",
    "\n",
    "# Define the parameter grid for XGBoost\n",
    "param_grid_xgb = {\n",
    "    'learning_rate': [0.01, 0.1, 0.2],  \n",
    "    'max_depth': [3, 5, 7], \n",
    "    'min_child_weight': [1, 3, 5],  \n",
    "    'subsample': [0.5, 0.7, 1.0], \n",
    "    'colsample_bytree': [0.5, 0.7, 1.0]  \n",
    "}\n",
    "\n",
    "# Initialize the XGBoost Regressor model and GridSearch\n",
    "xgb_model = xgb.XGBRegressor(random_state=42)\n",
    "grid_search_xgb = GridSearchCV(estimator=xgb_model, param_grid=param_grid_xgb, scoring='neg_mean_squared_error', cv=5)\n",
    "grid_search_xgb.fit(X_train, y_train)\n",
    "\n",
    "# Get the best hyperparameters for XGBoost\n",
    "best_params_xgb = grid_search_xgb.best_params_\n",
    "print(\"Best Hyperparameters for XGBoost:\", best_params_xgb)\n",
    "\n",
    "# Train the final XGBoost model with the best hyperparameters\n",
    "best_xgb_model = grid_search_xgb.best_estimator_\n",
    "best_xgb_model.fit(X_train, y_train)\n",
    "\n",
    "# Predict the target variable and evaluate\n",
    "y_pred_xgb = best_xgb_model.predict(X_test)\n",
    "mse = mean_squared_error(y_test, y_pred_xgb,squared=False)\n",
    "\n",
    "print(\"Root Mean Squared Error for XGBoost:\", mse)\n"
   ]
  },
  {
   "cell_type": "markdown",
   "id": "70f8051b",
   "metadata": {},
   "source": [
    "The XGBoost regression model outperformed the Decision Tree regressor and Ridge Regression, yielding the lowest RMSE of 17.8 compared to 25.3 and 33.1, respectively. Therefore, the conclusion is that the XGBoost regressor is superior to the Decision Tree regressor, which in turn is better than Ridge Regression."
   ]
  },
  {
   "cell_type": "markdown",
   "id": "0fb6e50f",
   "metadata": {},
   "source": [
    "### Test the Model"
   ]
  },
  {
   "cell_type": "code",
   "execution_count": 16,
   "id": "ffe11a9c",
   "metadata": {},
   "outputs": [],
   "source": [
    "def predict_valuation(df,name,model):\n",
    "    df=df[df['Player']==name]\n",
    "    df = df.select_dtypes(include=['float64', 'int64'])\n",
    "    result = model.predict(df)\n",
    "    print(name,'valuation: ', result[0])"
   ]
  },
  {
   "cell_type": "code",
   "execution_count": 17,
   "id": "86cf39a6",
   "metadata": {},
   "outputs": [
    {
     "name": "stdout",
     "output_type": "stream",
     "text": [
      "Lewis Dunk valuation:  29.159814103202052\n"
     ]
    }
   ],
   "source": [
    "predict_valuation(df,'Lewis Dunk',best_model)"
   ]
  }
 ],
 "metadata": {
  "kernelspec": {
   "display_name": "Python 3 (ipykernel)",
   "language": "python",
   "name": "python3"
  },
  "language_info": {
   "codemirror_mode": {
    "name": "ipython",
    "version": 3
   },
   "file_extension": ".py",
   "mimetype": "text/x-python",
   "name": "python",
   "nbconvert_exporter": "python",
   "pygments_lexer": "ipython3",
   "version": "3.11.5"
  }
 },
 "nbformat": 4,
 "nbformat_minor": 5
}
