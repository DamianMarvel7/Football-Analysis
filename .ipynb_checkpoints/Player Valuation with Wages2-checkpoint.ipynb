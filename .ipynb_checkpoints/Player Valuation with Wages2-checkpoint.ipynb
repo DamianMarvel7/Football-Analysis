{
 "cells": [
  {
   "cell_type": "code",
   "execution_count": 1,
   "id": "23425ab1",
   "metadata": {},
   "outputs": [],
   "source": [
    "import pandas as pd\n",
    "import numpy as np"
   ]
  },
  {
   "cell_type": "code",
   "execution_count": 2,
   "id": "32043c69",
   "metadata": {},
   "outputs": [],
   "source": [
    "df = pd.read_csv('./data/all_stats.csv')\n",
    "player_val = pd.read_csv('./data/player_val_cleaned.csv')"
   ]
  },
  {
   "cell_type": "code",
   "execution_count": 3,
   "id": "98f0d330",
   "metadata": {},
   "outputs": [],
   "source": [
    "df.fillna(0,inplace=True)"
   ]
  },
  {
   "cell_type": "code",
   "execution_count": 4,
   "id": "c0508bd8",
   "metadata": {},
   "outputs": [],
   "source": [
    "df.drop(columns=['Unnamed: 0'],inplace=True)"
   ]
  },
  {
   "cell_type": "code",
   "execution_count": 5,
   "id": "ede13140",
   "metadata": {},
   "outputs": [],
   "source": [
    "df_merge = pd.merge(df, player_val[['Player','Market value']], on=['Player'], how='inner')"
   ]
  },
  {
   "cell_type": "code",
   "execution_count": 6,
   "id": "f9a64cd5",
   "metadata": {},
   "outputs": [],
   "source": [
    "df_merge['Market value'] =(df_merge['Market value'].str.replace('€', '')\n",
    "                              .str.replace('m', '')\n",
    "                              .astype(float))"
   ]
  },
  {
   "cell_type": "code",
   "execution_count": 7,
   "id": "07a14b63",
   "metadata": {},
   "outputs": [],
   "source": [
    "df_numeric = df_merge.select_dtypes(include=['float64', 'int64'])"
   ]
  },
  {
   "cell_type": "code",
   "execution_count": 8,
   "id": "7018fa77",
   "metadata": {},
   "outputs": [],
   "source": [
    "from sklearn.model_selection import train_test_split\n",
    "\n",
    "X = df_numeric.drop(columns=['Market value'])  # Features\n",
    "y = df_numeric['Market value']  # Target variable\n",
    "\n",
    "# Split the data into training and testing sets\n",
    "X_train, X_test, y_train, y_test = train_test_split(X, y, test_size=0.2, random_state=42)"
   ]
  },
  {
   "cell_type": "code",
   "execution_count": 36,
   "id": "53af82c6",
   "metadata": {},
   "outputs": [],
   "source": [
    "from sklearn.preprocessing import StandardScaler\n",
    "\n",
    "# Initialize the StandardScaler\n",
    "scaler = StandardScaler()\n",
    "\n",
    "# Fit and transform the scaler on the training data\n",
    "X_train_scaled = scaler.fit_transform(X_train)\n",
    "\n",
    "# Transform the test data using the fitted scaler\n",
    "X_test_scaled = scaler.transform(X_test)"
   ]
  },
  {
   "cell_type": "code",
   "execution_count": 9,
   "id": "a7faa877",
   "metadata": {},
   "outputs": [
    {
     "name": "stdout",
     "output_type": "stream",
     "text": [
      "Mean Squared Error: 5298.85022902348\n"
     ]
    }
   ],
   "source": [
    "from sklearn.linear_model import LinearRegression\n",
    "from sklearn.metrics import mean_squared_error\n",
    "\n",
    "# Create a linear regression model\n",
    "model = LinearRegression()\n",
    "\n",
    "# Train the model on the training data\n",
    "model.fit(X_train, y_train)\n",
    "\n",
    "# Predict the target variable on the test data\n",
    "y_pred = model.predict(X_test)\n",
    "\n",
    "# Evaluate the model performance using Mean Squared Error (MSE)\n",
    "mse = mean_squared_error(y_test, y_pred)\n",
    "print(\"Mean Squared Error:\", mse)\n"
   ]
  },
  {
   "cell_type": "code",
   "execution_count": 41,
   "id": "cfde5eba",
   "metadata": {},
   "outputs": [
    {
     "name": "stdout",
     "output_type": "stream",
     "text": [
      "Best Hyperparameters: {'alpha': 10.0}\n",
      "Mean Squared Error: 1020.8059461859699\n"
     ]
    }
   ],
   "source": [
    "from sklearn.model_selection import GridSearchCV\n",
    "from sklearn.linear_model import Ridge\n",
    "from sklearn.metrics import mean_squared_error\n",
    "\n",
    "# Define the parameter grid\n",
    "param_grid = {\n",
    "    'alpha': [0.001, 0.01, 0.1, 1.0, 10.0]  # Regularization strength\n",
    "}\n",
    "\n",
    "# Initialize the Ridge regression model\n",
    "ridge_model = Ridge()\n",
    "\n",
    "# Initialize GridSearchCV with the Ridge model and parameter grid\n",
    "grid_search = GridSearchCV(estimator=ridge_model, param_grid=param_grid, scoring='neg_mean_squared_error', cv=5)\n",
    "\n",
    "# Perform grid search\n",
    "grid_search.fit(X_train, y_train)\n",
    "\n",
    "# Get the best hyperparameters\n",
    "best_params = grid_search.best_params_\n",
    "print(\"Best Hyperparameters:\", best_params)\n",
    "\n",
    "# Train the final Ridge model with the best hyperparameters\n",
    "best_model = grid_search.best_estimator_\n",
    "best_model.fit(X_train, y_train)\n",
    "\n",
    "# Predict the target variable on the test data\n",
    "y_pred = best_model.predict(X_test)\n",
    "\n",
    "# Evaluate the model performance using Mean Squared Error (MSE)\n",
    "mse = mean_squared_error(y_test, y_pred)\n",
    "print(\"Mean Squared Error:\", mse)\n"
   ]
  },
  {
   "cell_type": "code",
   "execution_count": 46,
   "id": "3373ca5b",
   "metadata": {},
   "outputs": [
    {
     "name": "stdout",
     "output_type": "stream",
     "text": [
      "Best Hyperparameters for Decision Tree Regressor: {'max_depth': 5, 'min_samples_leaf': 4, 'min_samples_split': 10}\n",
      "Mean Squared Error for Decision Tree Regressor: 988.8530919451606\n"
     ]
    }
   ],
   "source": [
    "from sklearn.tree import DecisionTreeRegressor\n",
    "from sklearn.model_selection import GridSearchCV\n",
    "from sklearn.metrics import mean_squared_error\n",
    "\n",
    "# Define the parameter grid for Decision Tree Regressor\n",
    "param_grid_dt = {\n",
    "    'max_depth': [None, 5, 10, 15],  # Maximum depth of the tree\n",
    "    'min_samples_split': [2, 5, 10],  # Minimum number of samples required to split a node\n",
    "    'min_samples_leaf': [1, 2, 4]  # Minimum number of samples required at each leaf node\n",
    "}\n",
    "\n",
    "# Initialize the Decision Tree Regressor model\n",
    "dt_model = DecisionTreeRegressor()\n",
    "\n",
    "# Initialize GridSearchCV with the Decision Tree Regressor model and parameter grid\n",
    "grid_search_dt = GridSearchCV(estimator=dt_model, param_grid=param_grid_dt, scoring='neg_mean_squared_error', cv=5)\n",
    "\n",
    "# Perform grid search\n",
    "grid_search_dt.fit(X_train, y_train)\n",
    "\n",
    "# Get the best hyperparameters for Decision Tree Regressor\n",
    "best_params_dt = grid_search_dt.best_params_\n",
    "print(\"Best Hyperparameters for Decision Tree Regressor:\", best_params_dt)\n",
    "\n",
    "# Train the final Decision Tree Regressor model with the best hyperparameters\n",
    "best_dt_model = grid_search_dt.best_estimator_\n",
    "best_dt_model.fit(X_train, y_train)\n",
    "\n",
    "# Predict the target variable on the test data using Decision Tree Regressor\n",
    "y_pred_dt = best_dt_model.predict(X_test)\n",
    "\n",
    "# Evaluate the Decision Tree Regressor model performance using Mean Squared Error (MSE)\n",
    "mse_dt = mean_squared_error(y_test, y_pred_dt)\n",
    "print(\"Mean Squared Error for Decision Tree Regressor:\", mse_dt)\n"
   ]
  },
  {
   "cell_type": "code",
   "execution_count": 49,
   "id": "89192f60",
   "metadata": {},
   "outputs": [
    {
     "name": "stdout",
     "output_type": "stream",
     "text": [
      "Best Hyperparameters for XGBoost: {'colsample_bytree': 0.5, 'learning_rate': 0.1, 'max_depth': 7, 'min_child_weight': 1, 'subsample': 0.7}\n",
      "Mean Squared Error for XGBoost: 960.8130768392085\n"
     ]
    }
   ],
   "source": [
    "import xgboost as xgb\n",
    "\n",
    "# Define the parameter grid for XGBoost\n",
    "param_grid_xgb = {\n",
    "    'learning_rate': [0.01, 0.1, 0.2],  # Learning rate\n",
    "    'max_depth': [3, 5, 7],  # Maximum depth of the trees\n",
    "    'min_child_weight': [1, 3, 5],  # Minimum sum of instance weight needed in a child\n",
    "    'subsample': [0.5, 0.7, 1.0],  # Subsample ratio of the training instances\n",
    "    'colsample_bytree': [0.5, 0.7, 1.0]  # Subsample ratio of columns when constructing each tree\n",
    "}\n",
    "\n",
    "# Initialize the XGBoost Regressor model\n",
    "xgb_model = xgb.XGBRegressor()\n",
    "\n",
    "# Initialize GridSearchCV with the XGBoost Regressor model and parameter grid\n",
    "grid_search_xgb = GridSearchCV(estimator=xgb_model, param_grid=param_grid_xgb, scoring='neg_mean_squared_error', cv=5)\n",
    "\n",
    "# Perform grid search\n",
    "grid_search_xgb.fit(X_train, y_train)\n",
    "\n",
    "# Get the best hyperparameters for XGBoost\n",
    "best_params_xgb = grid_search_xgb.best_params_\n",
    "print(\"Best Hyperparameters for XGBoost:\", best_params_xgb)\n",
    "\n",
    "# Train the final XGBoost model with the best hyperparameters\n",
    "best_xgb_model = grid_search_xgb.best_estimator_\n",
    "best_xgb_model.fit(X_train, y_train)\n",
    "\n",
    "# Predict the target variable on the test data using XGBoost\n",
    "y_pred_xgb = best_xgb_model.predict(X_test)\n",
    "\n",
    "# Evaluate the XGBoost model performance using Mean Squared Error (MSE)\n",
    "mse_xgb = mean_squared_error(y_test, y_pred_xgb)\n",
    "print(\"Mean Squared Error for XGBoost:\", mse_xgb)\n"
   ]
  },
  {
   "cell_type": "code",
   "execution_count": 37,
   "id": "328f98e5",
   "metadata": {},
   "outputs": [
    {
     "name": "stdout",
     "output_type": "stream",
     "text": [
      "Mean Squared Error: 5298.850229025336\n"
     ]
    }
   ],
   "source": [
    "from sklearn.linear_model import LinearRegression\n",
    "from sklearn.metrics import mean_squared_error\n",
    "\n",
    "# Create a linear regression model\n",
    "model = LinearRegression()\n",
    "\n",
    "# Train the model on the training data\n",
    "model.fit(X_train_scaled, y_train)\n",
    "\n",
    "# Predict the target variable on the test data\n",
    "y_pred = model.predict(X_test_scaled)\n",
    "\n",
    "# Evaluate the model performance using Mean Squared Error (MSE)\n",
    "mse = mean_squared_error(y_test, y_pred)\n",
    "print(\"Mean Squared Error:\", mse)\n"
   ]
  },
  {
   "cell_type": "code",
   "execution_count": 42,
   "id": "ffe11a9c",
   "metadata": {},
   "outputs": [],
   "source": [
    "def predict_valuation(df,name,model):\n",
    "    df=df[df['Player']==name]\n",
    "    df = df.select_dtypes(include=['float64', 'int64'])\n",
    "    result = model.predict(df)\n",
    "    print(name,'valuation: ', result[0])"
   ]
  },
  {
   "cell_type": "code",
   "execution_count": 45,
   "id": "86cf39a6",
   "metadata": {},
   "outputs": [
    {
     "name": "stdout",
     "output_type": "stream",
     "text": [
      "Lewis Dunk valuation:  102.18629257834979\n"
     ]
    }
   ],
   "source": [
    "predict_valuation(df,'Lewis Dunk',best_model)"
   ]
  },
  {
   "cell_type": "code",
   "execution_count": null,
   "id": "eccc61a2",
   "metadata": {},
   "outputs": [],
   "source": []
  }
 ],
 "metadata": {
  "kernelspec": {
   "display_name": "Python 3 (ipykernel)",
   "language": "python",
   "name": "python3"
  },
  "language_info": {
   "codemirror_mode": {
    "name": "ipython",
    "version": 3
   },
   "file_extension": ".py",
   "mimetype": "text/x-python",
   "name": "python",
   "nbconvert_exporter": "python",
   "pygments_lexer": "ipython3",
   "version": "3.11.5"
  }
 },
 "nbformat": 4,
 "nbformat_minor": 5
}
